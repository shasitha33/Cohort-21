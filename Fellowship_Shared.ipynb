{
  "nbformat": 4,
  "nbformat_minor": 0,
  "metadata": {
    "colab": {
      "name": "Fellowship_Shared.ipynb",
      "provenance": [],
      "collapsed_sections": [
        "FDts5Bvm1fzS"
      ],
      "mount_file_id": "1PT9mhcD2cTXMdqgSs6D-6L5qZVjvdWtv",
      "authorship_tag": "ABX9TyMfyFKItdo54D+o4bCMNLJ5",
      "include_colab_link": true
    },
    "kernelspec": {
      "name": "python3",
      "display_name": "Python 3"
    },
    "language_info": {
      "name": "python"
    },
    "widgets": {
      "application/vnd.jupyter.widget-state+json": {
        "f548ca82d0f849ecbf3c8d832ee6ce53": {
          "model_module": "@jupyter-widgets/controls",
          "model_name": "HBoxModel",
          "model_module_version": "1.5.0",
          "state": {
            "_view_name": "HBoxView",
            "_dom_classes": [],
            "_model_name": "HBoxModel",
            "_view_module": "@jupyter-widgets/controls",
            "_model_module_version": "1.5.0",
            "_view_count": null,
            "_view_module_version": "1.5.0",
            "box_style": "",
            "layout": "IPY_MODEL_7e5c3cdae6ec42dbadcb4557717f6735",
            "_model_module": "@jupyter-widgets/controls",
            "children": [
              "IPY_MODEL_53954358eba743248f9f5ae434cfff55",
              "IPY_MODEL_0e68fd3a6a07424b98e4df5b6ee9e193",
              "IPY_MODEL_62fe95a4d46e4013863149eec24c8719"
            ]
          }
        },
        "7e5c3cdae6ec42dbadcb4557717f6735": {
          "model_module": "@jupyter-widgets/base",
          "model_name": "LayoutModel",
          "model_module_version": "1.2.0",
          "state": {
            "_view_name": "LayoutView",
            "grid_template_rows": null,
            "right": null,
            "justify_content": null,
            "_view_module": "@jupyter-widgets/base",
            "overflow": null,
            "_model_module_version": "1.2.0",
            "_view_count": null,
            "flex_flow": null,
            "width": null,
            "min_width": null,
            "border": null,
            "align_items": null,
            "bottom": null,
            "_model_module": "@jupyter-widgets/base",
            "top": null,
            "grid_column": null,
            "overflow_y": null,
            "overflow_x": null,
            "grid_auto_flow": null,
            "grid_area": null,
            "grid_template_columns": null,
            "flex": null,
            "_model_name": "LayoutModel",
            "justify_items": null,
            "grid_row": null,
            "max_height": null,
            "align_content": null,
            "visibility": null,
            "align_self": null,
            "height": null,
            "min_height": null,
            "padding": null,
            "grid_auto_rows": null,
            "grid_gap": null,
            "max_width": null,
            "order": null,
            "_view_module_version": "1.2.0",
            "grid_template_areas": null,
            "object_position": null,
            "object_fit": null,
            "grid_auto_columns": null,
            "margin": null,
            "display": null,
            "left": null
          }
        },
        "53954358eba743248f9f5ae434cfff55": {
          "model_module": "@jupyter-widgets/controls",
          "model_name": "HTMLModel",
          "model_module_version": "1.5.0",
          "state": {
            "_view_name": "HTMLView",
            "style": "IPY_MODEL_dfb914ae71ad489d92eec4e5dda2a8be",
            "_dom_classes": [],
            "description": "",
            "_model_name": "HTMLModel",
            "placeholder": "​",
            "_view_module": "@jupyter-widgets/controls",
            "_model_module_version": "1.5.0",
            "value": "Downloading: 100%",
            "_view_count": null,
            "_view_module_version": "1.5.0",
            "description_tooltip": null,
            "_model_module": "@jupyter-widgets/controls",
            "layout": "IPY_MODEL_3a8dcd0277ca4ac9a49ade0040f44da5"
          }
        },
        "0e68fd3a6a07424b98e4df5b6ee9e193": {
          "model_module": "@jupyter-widgets/controls",
          "model_name": "FloatProgressModel",
          "model_module_version": "1.5.0",
          "state": {
            "_view_name": "ProgressView",
            "style": "IPY_MODEL_889ece2ef8344980991e39e79d5cd8f4",
            "_dom_classes": [],
            "description": "",
            "_model_name": "FloatProgressModel",
            "bar_style": "success",
            "max": 798011,
            "_view_module": "@jupyter-widgets/controls",
            "_model_module_version": "1.5.0",
            "value": 798011,
            "_view_count": null,
            "_view_module_version": "1.5.0",
            "orientation": "horizontal",
            "min": 0,
            "description_tooltip": null,
            "_model_module": "@jupyter-widgets/controls",
            "layout": "IPY_MODEL_3224e57e50b442989900d470ce9b80e4"
          }
        },
        "62fe95a4d46e4013863149eec24c8719": {
          "model_module": "@jupyter-widgets/controls",
          "model_name": "HTMLModel",
          "model_module_version": "1.5.0",
          "state": {
            "_view_name": "HTMLView",
            "style": "IPY_MODEL_51278056b58d4d038fd1841218a043be",
            "_dom_classes": [],
            "description": "",
            "_model_name": "HTMLModel",
            "placeholder": "​",
            "_view_module": "@jupyter-widgets/controls",
            "_model_module_version": "1.5.0",
            "value": " 779k/779k [00:00&lt;00:00, 1.91MB/s]",
            "_view_count": null,
            "_view_module_version": "1.5.0",
            "description_tooltip": null,
            "_model_module": "@jupyter-widgets/controls",
            "layout": "IPY_MODEL_59da53f2fce54dc791c0e57a2cddd0ac"
          }
        },
        "dfb914ae71ad489d92eec4e5dda2a8be": {
          "model_module": "@jupyter-widgets/controls",
          "model_name": "DescriptionStyleModel",
          "model_module_version": "1.5.0",
          "state": {
            "_view_name": "StyleView",
            "_model_name": "DescriptionStyleModel",
            "description_width": "",
            "_view_module": "@jupyter-widgets/base",
            "_model_module_version": "1.5.0",
            "_view_count": null,
            "_view_module_version": "1.2.0",
            "_model_module": "@jupyter-widgets/controls"
          }
        },
        "3a8dcd0277ca4ac9a49ade0040f44da5": {
          "model_module": "@jupyter-widgets/base",
          "model_name": "LayoutModel",
          "model_module_version": "1.2.0",
          "state": {
            "_view_name": "LayoutView",
            "grid_template_rows": null,
            "right": null,
            "justify_content": null,
            "_view_module": "@jupyter-widgets/base",
            "overflow": null,
            "_model_module_version": "1.2.0",
            "_view_count": null,
            "flex_flow": null,
            "width": null,
            "min_width": null,
            "border": null,
            "align_items": null,
            "bottom": null,
            "_model_module": "@jupyter-widgets/base",
            "top": null,
            "grid_column": null,
            "overflow_y": null,
            "overflow_x": null,
            "grid_auto_flow": null,
            "grid_area": null,
            "grid_template_columns": null,
            "flex": null,
            "_model_name": "LayoutModel",
            "justify_items": null,
            "grid_row": null,
            "max_height": null,
            "align_content": null,
            "visibility": null,
            "align_self": null,
            "height": null,
            "min_height": null,
            "padding": null,
            "grid_auto_rows": null,
            "grid_gap": null,
            "max_width": null,
            "order": null,
            "_view_module_version": "1.2.0",
            "grid_template_areas": null,
            "object_position": null,
            "object_fit": null,
            "grid_auto_columns": null,
            "margin": null,
            "display": null,
            "left": null
          }
        },
        "889ece2ef8344980991e39e79d5cd8f4": {
          "model_module": "@jupyter-widgets/controls",
          "model_name": "ProgressStyleModel",
          "model_module_version": "1.5.0",
          "state": {
            "_view_name": "StyleView",
            "_model_name": "ProgressStyleModel",
            "description_width": "",
            "_view_module": "@jupyter-widgets/base",
            "_model_module_version": "1.5.0",
            "_view_count": null,
            "_view_module_version": "1.2.0",
            "bar_color": null,
            "_model_module": "@jupyter-widgets/controls"
          }
        },
        "3224e57e50b442989900d470ce9b80e4": {
          "model_module": "@jupyter-widgets/base",
          "model_name": "LayoutModel",
          "model_module_version": "1.2.0",
          "state": {
            "_view_name": "LayoutView",
            "grid_template_rows": null,
            "right": null,
            "justify_content": null,
            "_view_module": "@jupyter-widgets/base",
            "overflow": null,
            "_model_module_version": "1.2.0",
            "_view_count": null,
            "flex_flow": null,
            "width": null,
            "min_width": null,
            "border": null,
            "align_items": null,
            "bottom": null,
            "_model_module": "@jupyter-widgets/base",
            "top": null,
            "grid_column": null,
            "overflow_y": null,
            "overflow_x": null,
            "grid_auto_flow": null,
            "grid_area": null,
            "grid_template_columns": null,
            "flex": null,
            "_model_name": "LayoutModel",
            "justify_items": null,
            "grid_row": null,
            "max_height": null,
            "align_content": null,
            "visibility": null,
            "align_self": null,
            "height": null,
            "min_height": null,
            "padding": null,
            "grid_auto_rows": null,
            "grid_gap": null,
            "max_width": null,
            "order": null,
            "_view_module_version": "1.2.0",
            "grid_template_areas": null,
            "object_position": null,
            "object_fit": null,
            "grid_auto_columns": null,
            "margin": null,
            "display": null,
            "left": null
          }
        },
        "51278056b58d4d038fd1841218a043be": {
          "model_module": "@jupyter-widgets/controls",
          "model_name": "DescriptionStyleModel",
          "model_module_version": "1.5.0",
          "state": {
            "_view_name": "StyleView",
            "_model_name": "DescriptionStyleModel",
            "description_width": "",
            "_view_module": "@jupyter-widgets/base",
            "_model_module_version": "1.5.0",
            "_view_count": null,
            "_view_module_version": "1.2.0",
            "_model_module": "@jupyter-widgets/controls"
          }
        },
        "59da53f2fce54dc791c0e57a2cddd0ac": {
          "model_module": "@jupyter-widgets/base",
          "model_name": "LayoutModel",
          "model_module_version": "1.2.0",
          "state": {
            "_view_name": "LayoutView",
            "grid_template_rows": null,
            "right": null,
            "justify_content": null,
            "_view_module": "@jupyter-widgets/base",
            "overflow": null,
            "_model_module_version": "1.2.0",
            "_view_count": null,
            "flex_flow": null,
            "width": null,
            "min_width": null,
            "border": null,
            "align_items": null,
            "bottom": null,
            "_model_module": "@jupyter-widgets/base",
            "top": null,
            "grid_column": null,
            "overflow_y": null,
            "overflow_x": null,
            "grid_auto_flow": null,
            "grid_area": null,
            "grid_template_columns": null,
            "flex": null,
            "_model_name": "LayoutModel",
            "justify_items": null,
            "grid_row": null,
            "max_height": null,
            "align_content": null,
            "visibility": null,
            "align_self": null,
            "height": null,
            "min_height": null,
            "padding": null,
            "grid_auto_rows": null,
            "grid_gap": null,
            "max_width": null,
            "order": null,
            "_view_module_version": "1.2.0",
            "grid_template_areas": null,
            "object_position": null,
            "object_fit": null,
            "grid_auto_columns": null,
            "margin": null,
            "display": null,
            "left": null
          }
        },
        "7e1232fee7af452d8d9397e91ce332a0": {
          "model_module": "@jupyter-widgets/controls",
          "model_name": "HBoxModel",
          "model_module_version": "1.5.0",
          "state": {
            "_view_name": "HBoxView",
            "_dom_classes": [],
            "_model_name": "HBoxModel",
            "_view_module": "@jupyter-widgets/controls",
            "_model_module_version": "1.5.0",
            "_view_count": null,
            "_view_module_version": "1.5.0",
            "box_style": "",
            "layout": "IPY_MODEL_8050834a0ca74875b47136b0b9a8ee83",
            "_model_module": "@jupyter-widgets/controls",
            "children": [
              "IPY_MODEL_c4985b0b89054d92a7ea52fb4e4f235d",
              "IPY_MODEL_3858027d390148ea9b525fa404a7c253",
              "IPY_MODEL_dd14f28e7d474625ba0f83de3f6bf2cf"
            ]
          }
        },
        "8050834a0ca74875b47136b0b9a8ee83": {
          "model_module": "@jupyter-widgets/base",
          "model_name": "LayoutModel",
          "model_module_version": "1.2.0",
          "state": {
            "_view_name": "LayoutView",
            "grid_template_rows": null,
            "right": null,
            "justify_content": null,
            "_view_module": "@jupyter-widgets/base",
            "overflow": null,
            "_model_module_version": "1.2.0",
            "_view_count": null,
            "flex_flow": null,
            "width": null,
            "min_width": null,
            "border": null,
            "align_items": null,
            "bottom": null,
            "_model_module": "@jupyter-widgets/base",
            "top": null,
            "grid_column": null,
            "overflow_y": null,
            "overflow_x": null,
            "grid_auto_flow": null,
            "grid_area": null,
            "grid_template_columns": null,
            "flex": null,
            "_model_name": "LayoutModel",
            "justify_items": null,
            "grid_row": null,
            "max_height": null,
            "align_content": null,
            "visibility": null,
            "align_self": null,
            "height": null,
            "min_height": null,
            "padding": null,
            "grid_auto_rows": null,
            "grid_gap": null,
            "max_width": null,
            "order": null,
            "_view_module_version": "1.2.0",
            "grid_template_areas": null,
            "object_position": null,
            "object_fit": null,
            "grid_auto_columns": null,
            "margin": null,
            "display": null,
            "left": null
          }
        },
        "c4985b0b89054d92a7ea52fb4e4f235d": {
          "model_module": "@jupyter-widgets/controls",
          "model_name": "HTMLModel",
          "model_module_version": "1.5.0",
          "state": {
            "_view_name": "HTMLView",
            "style": "IPY_MODEL_ef335c23ce044f43be2851f0a53cce85",
            "_dom_classes": [],
            "description": "",
            "_model_name": "HTMLModel",
            "placeholder": "​",
            "_view_module": "@jupyter-widgets/controls",
            "_model_module_version": "1.5.0",
            "value": "Downloading: 100%",
            "_view_count": null,
            "_view_module_version": "1.5.0",
            "description_tooltip": null,
            "_model_module": "@jupyter-widgets/controls",
            "layout": "IPY_MODEL_da590a9c81d5445d88ddd6eae9f1cd3c"
          }
        },
        "3858027d390148ea9b525fa404a7c253": {
          "model_module": "@jupyter-widgets/controls",
          "model_name": "FloatProgressModel",
          "model_module_version": "1.5.0",
          "state": {
            "_view_name": "ProgressView",
            "style": "IPY_MODEL_5704c367243d45a8a5a9c791d22c6fa9",
            "_dom_classes": [],
            "description": "",
            "_model_name": "FloatProgressModel",
            "bar_style": "success",
            "max": 1382015,
            "_view_module": "@jupyter-widgets/controls",
            "_model_module_version": "1.5.0",
            "value": 1382015,
            "_view_count": null,
            "_view_module_version": "1.5.0",
            "orientation": "horizontal",
            "min": 0,
            "description_tooltip": null,
            "_model_module": "@jupyter-widgets/controls",
            "layout": "IPY_MODEL_9af4d6fc507842198c6b249d54cfa0ed"
          }
        },
        "dd14f28e7d474625ba0f83de3f6bf2cf": {
          "model_module": "@jupyter-widgets/controls",
          "model_name": "HTMLModel",
          "model_module_version": "1.5.0",
          "state": {
            "_view_name": "HTMLView",
            "style": "IPY_MODEL_5492d8f74623492189fcb79ef8fb8334",
            "_dom_classes": [],
            "description": "",
            "_model_name": "HTMLModel",
            "placeholder": "​",
            "_view_module": "@jupyter-widgets/controls",
            "_model_module_version": "1.5.0",
            "value": " 1.32M/1.32M [00:00&lt;00:00, 4.52MB/s]",
            "_view_count": null,
            "_view_module_version": "1.5.0",
            "description_tooltip": null,
            "_model_module": "@jupyter-widgets/controls",
            "layout": "IPY_MODEL_e72043f27ab8468aa21e42e6024209d3"
          }
        },
        "ef335c23ce044f43be2851f0a53cce85": {
          "model_module": "@jupyter-widgets/controls",
          "model_name": "DescriptionStyleModel",
          "model_module_version": "1.5.0",
          "state": {
            "_view_name": "StyleView",
            "_model_name": "DescriptionStyleModel",
            "description_width": "",
            "_view_module": "@jupyter-widgets/base",
            "_model_module_version": "1.5.0",
            "_view_count": null,
            "_view_module_version": "1.2.0",
            "_model_module": "@jupyter-widgets/controls"
          }
        },
        "da590a9c81d5445d88ddd6eae9f1cd3c": {
          "model_module": "@jupyter-widgets/base",
          "model_name": "LayoutModel",
          "model_module_version": "1.2.0",
          "state": {
            "_view_name": "LayoutView",
            "grid_template_rows": null,
            "right": null,
            "justify_content": null,
            "_view_module": "@jupyter-widgets/base",
            "overflow": null,
            "_model_module_version": "1.2.0",
            "_view_count": null,
            "flex_flow": null,
            "width": null,
            "min_width": null,
            "border": null,
            "align_items": null,
            "bottom": null,
            "_model_module": "@jupyter-widgets/base",
            "top": null,
            "grid_column": null,
            "overflow_y": null,
            "overflow_x": null,
            "grid_auto_flow": null,
            "grid_area": null,
            "grid_template_columns": null,
            "flex": null,
            "_model_name": "LayoutModel",
            "justify_items": null,
            "grid_row": null,
            "max_height": null,
            "align_content": null,
            "visibility": null,
            "align_self": null,
            "height": null,
            "min_height": null,
            "padding": null,
            "grid_auto_rows": null,
            "grid_gap": null,
            "max_width": null,
            "order": null,
            "_view_module_version": "1.2.0",
            "grid_template_areas": null,
            "object_position": null,
            "object_fit": null,
            "grid_auto_columns": null,
            "margin": null,
            "display": null,
            "left": null
          }
        },
        "5704c367243d45a8a5a9c791d22c6fa9": {
          "model_module": "@jupyter-widgets/controls",
          "model_name": "ProgressStyleModel",
          "model_module_version": "1.5.0",
          "state": {
            "_view_name": "StyleView",
            "_model_name": "ProgressStyleModel",
            "description_width": "",
            "_view_module": "@jupyter-widgets/base",
            "_model_module_version": "1.5.0",
            "_view_count": null,
            "_view_module_version": "1.2.0",
            "bar_color": null,
            "_model_module": "@jupyter-widgets/controls"
          }
        },
        "9af4d6fc507842198c6b249d54cfa0ed": {
          "model_module": "@jupyter-widgets/base",
          "model_name": "LayoutModel",
          "model_module_version": "1.2.0",
          "state": {
            "_view_name": "LayoutView",
            "grid_template_rows": null,
            "right": null,
            "justify_content": null,
            "_view_module": "@jupyter-widgets/base",
            "overflow": null,
            "_model_module_version": "1.2.0",
            "_view_count": null,
            "flex_flow": null,
            "width": null,
            "min_width": null,
            "border": null,
            "align_items": null,
            "bottom": null,
            "_model_module": "@jupyter-widgets/base",
            "top": null,
            "grid_column": null,
            "overflow_y": null,
            "overflow_x": null,
            "grid_auto_flow": null,
            "grid_area": null,
            "grid_template_columns": null,
            "flex": null,
            "_model_name": "LayoutModel",
            "justify_items": null,
            "grid_row": null,
            "max_height": null,
            "align_content": null,
            "visibility": null,
            "align_self": null,
            "height": null,
            "min_height": null,
            "padding": null,
            "grid_auto_rows": null,
            "grid_gap": null,
            "max_width": null,
            "order": null,
            "_view_module_version": "1.2.0",
            "grid_template_areas": null,
            "object_position": null,
            "object_fit": null,
            "grid_auto_columns": null,
            "margin": null,
            "display": null,
            "left": null
          }
        },
        "5492d8f74623492189fcb79ef8fb8334": {
          "model_module": "@jupyter-widgets/controls",
          "model_name": "DescriptionStyleModel",
          "model_module_version": "1.5.0",
          "state": {
            "_view_name": "StyleView",
            "_model_name": "DescriptionStyleModel",
            "description_width": "",
            "_view_module": "@jupyter-widgets/base",
            "_model_module_version": "1.5.0",
            "_view_count": null,
            "_view_module_version": "1.2.0",
            "_model_module": "@jupyter-widgets/controls"
          }
        },
        "e72043f27ab8468aa21e42e6024209d3": {
          "model_module": "@jupyter-widgets/base",
          "model_name": "LayoutModel",
          "model_module_version": "1.2.0",
          "state": {
            "_view_name": "LayoutView",
            "grid_template_rows": null,
            "right": null,
            "justify_content": null,
            "_view_module": "@jupyter-widgets/base",
            "overflow": null,
            "_model_module_version": "1.2.0",
            "_view_count": null,
            "flex_flow": null,
            "width": null,
            "min_width": null,
            "border": null,
            "align_items": null,
            "bottom": null,
            "_model_module": "@jupyter-widgets/base",
            "top": null,
            "grid_column": null,
            "overflow_y": null,
            "overflow_x": null,
            "grid_auto_flow": null,
            "grid_area": null,
            "grid_template_columns": null,
            "flex": null,
            "_model_name": "LayoutModel",
            "justify_items": null,
            "grid_row": null,
            "max_height": null,
            "align_content": null,
            "visibility": null,
            "align_self": null,
            "height": null,
            "min_height": null,
            "padding": null,
            "grid_auto_rows": null,
            "grid_gap": null,
            "max_width": null,
            "order": null,
            "_view_module_version": "1.2.0",
            "grid_template_areas": null,
            "object_position": null,
            "object_fit": null,
            "grid_auto_columns": null,
            "margin": null,
            "display": null,
            "left": null
          }
        },
        "0c8ce04a809b49d2a00176fa7e6d0240": {
          "model_module": "@jupyter-widgets/controls",
          "model_name": "HBoxModel",
          "model_module_version": "1.5.0",
          "state": {
            "_view_name": "HBoxView",
            "_dom_classes": [],
            "_model_name": "HBoxModel",
            "_view_module": "@jupyter-widgets/controls",
            "_model_module_version": "1.5.0",
            "_view_count": null,
            "_view_module_version": "1.5.0",
            "box_style": "",
            "layout": "IPY_MODEL_f5934eb29bff47209324404dfeddd066",
            "_model_module": "@jupyter-widgets/controls",
            "children": [
              "IPY_MODEL_b6e2207cc41a49138ced086b3ef17828",
              "IPY_MODEL_13ee65a6897b4480bde589fc6d0c51f0",
              "IPY_MODEL_db6886e55947468cb6058b8caee785f1"
            ]
          }
        },
        "f5934eb29bff47209324404dfeddd066": {
          "model_module": "@jupyter-widgets/base",
          "model_name": "LayoutModel",
          "model_module_version": "1.2.0",
          "state": {
            "_view_name": "LayoutView",
            "grid_template_rows": null,
            "right": null,
            "justify_content": null,
            "_view_module": "@jupyter-widgets/base",
            "overflow": null,
            "_model_module_version": "1.2.0",
            "_view_count": null,
            "flex_flow": null,
            "width": null,
            "min_width": null,
            "border": null,
            "align_items": null,
            "bottom": null,
            "_model_module": "@jupyter-widgets/base",
            "top": null,
            "grid_column": null,
            "overflow_y": null,
            "overflow_x": null,
            "grid_auto_flow": null,
            "grid_area": null,
            "grid_template_columns": null,
            "flex": null,
            "_model_name": "LayoutModel",
            "justify_items": null,
            "grid_row": null,
            "max_height": null,
            "align_content": null,
            "visibility": null,
            "align_self": null,
            "height": null,
            "min_height": null,
            "padding": null,
            "grid_auto_rows": null,
            "grid_gap": null,
            "max_width": null,
            "order": null,
            "_view_module_version": "1.2.0",
            "grid_template_areas": null,
            "object_position": null,
            "object_fit": null,
            "grid_auto_columns": null,
            "margin": null,
            "display": null,
            "left": null
          }
        },
        "b6e2207cc41a49138ced086b3ef17828": {
          "model_module": "@jupyter-widgets/controls",
          "model_name": "HTMLModel",
          "model_module_version": "1.5.0",
          "state": {
            "_view_name": "HTMLView",
            "style": "IPY_MODEL_f15c74471a99440aa1404d29af51ace6",
            "_dom_classes": [],
            "description": "",
            "_model_name": "HTMLModel",
            "placeholder": "​",
            "_view_module": "@jupyter-widgets/controls",
            "_model_module_version": "1.5.0",
            "value": "Downloading: 100%",
            "_view_count": null,
            "_view_module_version": "1.5.0",
            "description_tooltip": null,
            "_model_module": "@jupyter-widgets/controls",
            "layout": "IPY_MODEL_b580ba9da60440119d67a9e3c36c5268"
          }
        },
        "13ee65a6897b4480bde589fc6d0c51f0": {
          "model_module": "@jupyter-widgets/controls",
          "model_name": "FloatProgressModel",
          "model_module_version": "1.5.0",
          "state": {
            "_view_name": "ProgressView",
            "style": "IPY_MODEL_14c0813f649f484abe44375b30a51d7f",
            "_dom_classes": [],
            "description": "",
            "_model_name": "FloatProgressModel",
            "bar_style": "success",
            "max": 760,
            "_view_module": "@jupyter-widgets/controls",
            "_model_module_version": "1.5.0",
            "value": 760,
            "_view_count": null,
            "_view_module_version": "1.5.0",
            "orientation": "horizontal",
            "min": 0,
            "description_tooltip": null,
            "_model_module": "@jupyter-widgets/controls",
            "layout": "IPY_MODEL_4a4ddda641d34b30a95da6adff72b749"
          }
        },
        "db6886e55947468cb6058b8caee785f1": {
          "model_module": "@jupyter-widgets/controls",
          "model_name": "HTMLModel",
          "model_module_version": "1.5.0",
          "state": {
            "_view_name": "HTMLView",
            "style": "IPY_MODEL_f19db6f9d1204d4b87890d2ff8bc2759",
            "_dom_classes": [],
            "description": "",
            "_model_name": "HTMLModel",
            "placeholder": "​",
            "_view_module": "@jupyter-widgets/controls",
            "_model_module_version": "1.5.0",
            "value": " 760/760 [00:00&lt;00:00, 15.3kB/s]",
            "_view_count": null,
            "_view_module_version": "1.5.0",
            "description_tooltip": null,
            "_model_module": "@jupyter-widgets/controls",
            "layout": "IPY_MODEL_5be1fa68b3794db2b9aa11f0e121632d"
          }
        },
        "f15c74471a99440aa1404d29af51ace6": {
          "model_module": "@jupyter-widgets/controls",
          "model_name": "DescriptionStyleModel",
          "model_module_version": "1.5.0",
          "state": {
            "_view_name": "StyleView",
            "_model_name": "DescriptionStyleModel",
            "description_width": "",
            "_view_module": "@jupyter-widgets/base",
            "_model_module_version": "1.5.0",
            "_view_count": null,
            "_view_module_version": "1.2.0",
            "_model_module": "@jupyter-widgets/controls"
          }
        },
        "b580ba9da60440119d67a9e3c36c5268": {
          "model_module": "@jupyter-widgets/base",
          "model_name": "LayoutModel",
          "model_module_version": "1.2.0",
          "state": {
            "_view_name": "LayoutView",
            "grid_template_rows": null,
            "right": null,
            "justify_content": null,
            "_view_module": "@jupyter-widgets/base",
            "overflow": null,
            "_model_module_version": "1.2.0",
            "_view_count": null,
            "flex_flow": null,
            "width": null,
            "min_width": null,
            "border": null,
            "align_items": null,
            "bottom": null,
            "_model_module": "@jupyter-widgets/base",
            "top": null,
            "grid_column": null,
            "overflow_y": null,
            "overflow_x": null,
            "grid_auto_flow": null,
            "grid_area": null,
            "grid_template_columns": null,
            "flex": null,
            "_model_name": "LayoutModel",
            "justify_items": null,
            "grid_row": null,
            "max_height": null,
            "align_content": null,
            "visibility": null,
            "align_self": null,
            "height": null,
            "min_height": null,
            "padding": null,
            "grid_auto_rows": null,
            "grid_gap": null,
            "max_width": null,
            "order": null,
            "_view_module_version": "1.2.0",
            "grid_template_areas": null,
            "object_position": null,
            "object_fit": null,
            "grid_auto_columns": null,
            "margin": null,
            "display": null,
            "left": null
          }
        },
        "14c0813f649f484abe44375b30a51d7f": {
          "model_module": "@jupyter-widgets/controls",
          "model_name": "ProgressStyleModel",
          "model_module_version": "1.5.0",
          "state": {
            "_view_name": "StyleView",
            "_model_name": "ProgressStyleModel",
            "description_width": "",
            "_view_module": "@jupyter-widgets/base",
            "_model_module_version": "1.5.0",
            "_view_count": null,
            "_view_module_version": "1.2.0",
            "bar_color": null,
            "_model_module": "@jupyter-widgets/controls"
          }
        },
        "4a4ddda641d34b30a95da6adff72b749": {
          "model_module": "@jupyter-widgets/base",
          "model_name": "LayoutModel",
          "model_module_version": "1.2.0",
          "state": {
            "_view_name": "LayoutView",
            "grid_template_rows": null,
            "right": null,
            "justify_content": null,
            "_view_module": "@jupyter-widgets/base",
            "overflow": null,
            "_model_module_version": "1.2.0",
            "_view_count": null,
            "flex_flow": null,
            "width": null,
            "min_width": null,
            "border": null,
            "align_items": null,
            "bottom": null,
            "_model_module": "@jupyter-widgets/base",
            "top": null,
            "grid_column": null,
            "overflow_y": null,
            "overflow_x": null,
            "grid_auto_flow": null,
            "grid_area": null,
            "grid_template_columns": null,
            "flex": null,
            "_model_name": "LayoutModel",
            "justify_items": null,
            "grid_row": null,
            "max_height": null,
            "align_content": null,
            "visibility": null,
            "align_self": null,
            "height": null,
            "min_height": null,
            "padding": null,
            "grid_auto_rows": null,
            "grid_gap": null,
            "max_width": null,
            "order": null,
            "_view_module_version": "1.2.0",
            "grid_template_areas": null,
            "object_position": null,
            "object_fit": null,
            "grid_auto_columns": null,
            "margin": null,
            "display": null,
            "left": null
          }
        },
        "f19db6f9d1204d4b87890d2ff8bc2759": {
          "model_module": "@jupyter-widgets/controls",
          "model_name": "DescriptionStyleModel",
          "model_module_version": "1.5.0",
          "state": {
            "_view_name": "StyleView",
            "_model_name": "DescriptionStyleModel",
            "description_width": "",
            "_view_module": "@jupyter-widgets/base",
            "_model_module_version": "1.5.0",
            "_view_count": null,
            "_view_module_version": "1.2.0",
            "_model_module": "@jupyter-widgets/controls"
          }
        },
        "5be1fa68b3794db2b9aa11f0e121632d": {
          "model_module": "@jupyter-widgets/base",
          "model_name": "LayoutModel",
          "model_module_version": "1.2.0",
          "state": {
            "_view_name": "LayoutView",
            "grid_template_rows": null,
            "right": null,
            "justify_content": null,
            "_view_module": "@jupyter-widgets/base",
            "overflow": null,
            "_model_module_version": "1.2.0",
            "_view_count": null,
            "flex_flow": null,
            "width": null,
            "min_width": null,
            "border": null,
            "align_items": null,
            "bottom": null,
            "_model_module": "@jupyter-widgets/base",
            "top": null,
            "grid_column": null,
            "overflow_y": null,
            "overflow_x": null,
            "grid_auto_flow": null,
            "grid_area": null,
            "grid_template_columns": null,
            "flex": null,
            "_model_name": "LayoutModel",
            "justify_items": null,
            "grid_row": null,
            "max_height": null,
            "align_content": null,
            "visibility": null,
            "align_self": null,
            "height": null,
            "min_height": null,
            "padding": null,
            "grid_auto_rows": null,
            "grid_gap": null,
            "max_width": null,
            "order": null,
            "_view_module_version": "1.2.0",
            "grid_template_areas": null,
            "object_position": null,
            "object_fit": null,
            "grid_auto_columns": null,
            "margin": null,
            "display": null,
            "left": null
          }
        },
        "b53c40f3e131487d84934ce1fbd48e7c": {
          "model_module": "@jupyter-widgets/controls",
          "model_name": "HBoxModel",
          "model_module_version": "1.5.0",
          "state": {
            "_view_name": "HBoxView",
            "_dom_classes": [],
            "_model_name": "HBoxModel",
            "_view_module": "@jupyter-widgets/controls",
            "_model_module_version": "1.5.0",
            "_view_count": null,
            "_view_module_version": "1.5.0",
            "box_style": "",
            "layout": "IPY_MODEL_9c3287a0415b4176993cc4aa3f514d3d",
            "_model_module": "@jupyter-widgets/controls",
            "children": [
              "IPY_MODEL_c1a0da432d6044d3aaec64d72aeb5c64",
              "IPY_MODEL_dcc68116010f46a4922a9b94ae8a5e46",
              "IPY_MODEL_c24180ff1f56439d8a3bb7585dd75a36"
            ]
          }
        },
        "9c3287a0415b4176993cc4aa3f514d3d": {
          "model_module": "@jupyter-widgets/base",
          "model_name": "LayoutModel",
          "model_module_version": "1.2.0",
          "state": {
            "_view_name": "LayoutView",
            "grid_template_rows": null,
            "right": null,
            "justify_content": null,
            "_view_module": "@jupyter-widgets/base",
            "overflow": null,
            "_model_module_version": "1.2.0",
            "_view_count": null,
            "flex_flow": null,
            "width": null,
            "min_width": null,
            "border": null,
            "align_items": null,
            "bottom": null,
            "_model_module": "@jupyter-widgets/base",
            "top": null,
            "grid_column": null,
            "overflow_y": null,
            "overflow_x": null,
            "grid_auto_flow": null,
            "grid_area": null,
            "grid_template_columns": null,
            "flex": null,
            "_model_name": "LayoutModel",
            "justify_items": null,
            "grid_row": null,
            "max_height": null,
            "align_content": null,
            "visibility": null,
            "align_self": null,
            "height": null,
            "min_height": null,
            "padding": null,
            "grid_auto_rows": null,
            "grid_gap": null,
            "max_width": null,
            "order": null,
            "_view_module_version": "1.2.0",
            "grid_template_areas": null,
            "object_position": null,
            "object_fit": null,
            "grid_auto_columns": null,
            "margin": null,
            "display": null,
            "left": null
          }
        },
        "c1a0da432d6044d3aaec64d72aeb5c64": {
          "model_module": "@jupyter-widgets/controls",
          "model_name": "HTMLModel",
          "model_module_version": "1.5.0",
          "state": {
            "_view_name": "HTMLView",
            "style": "IPY_MODEL_fa34defaf22249bb940c6bc1b69bdc4c",
            "_dom_classes": [],
            "description": "",
            "_model_name": "HTMLModel",
            "placeholder": "​",
            "_view_module": "@jupyter-widgets/controls",
            "_model_module_version": "1.5.0",
            "value": "Downloading: 100%",
            "_view_count": null,
            "_view_module_version": "1.5.0",
            "description_tooltip": null,
            "_model_module": "@jupyter-widgets/controls",
            "layout": "IPY_MODEL_e2206221f0bb46a0a702eb5824adaaf8"
          }
        },
        "dcc68116010f46a4922a9b94ae8a5e46": {
          "model_module": "@jupyter-widgets/controls",
          "model_name": "FloatProgressModel",
          "model_module_version": "1.5.0",
          "state": {
            "_view_name": "ProgressView",
            "style": "IPY_MODEL_60af4fa634f64cd88299ef9da97edb98",
            "_dom_classes": [],
            "description": "",
            "_model_name": "FloatProgressModel",
            "bar_style": "success",
            "max": 467042463,
            "_view_module": "@jupyter-widgets/controls",
            "_model_module_version": "1.5.0",
            "value": 467042463,
            "_view_count": null,
            "_view_module_version": "1.5.0",
            "orientation": "horizontal",
            "min": 0,
            "description_tooltip": null,
            "_model_module": "@jupyter-widgets/controls",
            "layout": "IPY_MODEL_848aa921de024e889cda90c13cf8db10"
          }
        },
        "c24180ff1f56439d8a3bb7585dd75a36": {
          "model_module": "@jupyter-widgets/controls",
          "model_name": "HTMLModel",
          "model_module_version": "1.5.0",
          "state": {
            "_view_name": "HTMLView",
            "style": "IPY_MODEL_a60ad1f8df7b48288c777649794607b3",
            "_dom_classes": [],
            "description": "",
            "_model_name": "HTMLModel",
            "placeholder": "​",
            "_view_module": "@jupyter-widgets/controls",
            "_model_module_version": "1.5.0",
            "value": " 445M/445M [00:22&lt;00:00, 7.84MB/s]",
            "_view_count": null,
            "_view_module_version": "1.5.0",
            "description_tooltip": null,
            "_model_module": "@jupyter-widgets/controls",
            "layout": "IPY_MODEL_39179976851144bcadcdd7322201736b"
          }
        },
        "fa34defaf22249bb940c6bc1b69bdc4c": {
          "model_module": "@jupyter-widgets/controls",
          "model_name": "DescriptionStyleModel",
          "model_module_version": "1.5.0",
          "state": {
            "_view_name": "StyleView",
            "_model_name": "DescriptionStyleModel",
            "description_width": "",
            "_view_module": "@jupyter-widgets/base",
            "_model_module_version": "1.5.0",
            "_view_count": null,
            "_view_module_version": "1.2.0",
            "_model_module": "@jupyter-widgets/controls"
          }
        },
        "e2206221f0bb46a0a702eb5824adaaf8": {
          "model_module": "@jupyter-widgets/base",
          "model_name": "LayoutModel",
          "model_module_version": "1.2.0",
          "state": {
            "_view_name": "LayoutView",
            "grid_template_rows": null,
            "right": null,
            "justify_content": null,
            "_view_module": "@jupyter-widgets/base",
            "overflow": null,
            "_model_module_version": "1.2.0",
            "_view_count": null,
            "flex_flow": null,
            "width": null,
            "min_width": null,
            "border": null,
            "align_items": null,
            "bottom": null,
            "_model_module": "@jupyter-widgets/base",
            "top": null,
            "grid_column": null,
            "overflow_y": null,
            "overflow_x": null,
            "grid_auto_flow": null,
            "grid_area": null,
            "grid_template_columns": null,
            "flex": null,
            "_model_name": "LayoutModel",
            "justify_items": null,
            "grid_row": null,
            "max_height": null,
            "align_content": null,
            "visibility": null,
            "align_self": null,
            "height": null,
            "min_height": null,
            "padding": null,
            "grid_auto_rows": null,
            "grid_gap": null,
            "max_width": null,
            "order": null,
            "_view_module_version": "1.2.0",
            "grid_template_areas": null,
            "object_position": null,
            "object_fit": null,
            "grid_auto_columns": null,
            "margin": null,
            "display": null,
            "left": null
          }
        },
        "60af4fa634f64cd88299ef9da97edb98": {
          "model_module": "@jupyter-widgets/controls",
          "model_name": "ProgressStyleModel",
          "model_module_version": "1.5.0",
          "state": {
            "_view_name": "StyleView",
            "_model_name": "ProgressStyleModel",
            "description_width": "",
            "_view_module": "@jupyter-widgets/base",
            "_model_module_version": "1.5.0",
            "_view_count": null,
            "_view_module_version": "1.2.0",
            "bar_color": null,
            "_model_module": "@jupyter-widgets/controls"
          }
        },
        "848aa921de024e889cda90c13cf8db10": {
          "model_module": "@jupyter-widgets/base",
          "model_name": "LayoutModel",
          "model_module_version": "1.2.0",
          "state": {
            "_view_name": "LayoutView",
            "grid_template_rows": null,
            "right": null,
            "justify_content": null,
            "_view_module": "@jupyter-widgets/base",
            "overflow": null,
            "_model_module_version": "1.2.0",
            "_view_count": null,
            "flex_flow": null,
            "width": null,
            "min_width": null,
            "border": null,
            "align_items": null,
            "bottom": null,
            "_model_module": "@jupyter-widgets/base",
            "top": null,
            "grid_column": null,
            "overflow_y": null,
            "overflow_x": null,
            "grid_auto_flow": null,
            "grid_area": null,
            "grid_template_columns": null,
            "flex": null,
            "_model_name": "LayoutModel",
            "justify_items": null,
            "grid_row": null,
            "max_height": null,
            "align_content": null,
            "visibility": null,
            "align_self": null,
            "height": null,
            "min_height": null,
            "padding": null,
            "grid_auto_rows": null,
            "grid_gap": null,
            "max_width": null,
            "order": null,
            "_view_module_version": "1.2.0",
            "grid_template_areas": null,
            "object_position": null,
            "object_fit": null,
            "grid_auto_columns": null,
            "margin": null,
            "display": null,
            "left": null
          }
        },
        "a60ad1f8df7b48288c777649794607b3": {
          "model_module": "@jupyter-widgets/controls",
          "model_name": "DescriptionStyleModel",
          "model_module_version": "1.5.0",
          "state": {
            "_view_name": "StyleView",
            "_model_name": "DescriptionStyleModel",
            "description_width": "",
            "_view_module": "@jupyter-widgets/base",
            "_model_module_version": "1.5.0",
            "_view_count": null,
            "_view_module_version": "1.2.0",
            "_model_module": "@jupyter-widgets/controls"
          }
        },
        "39179976851144bcadcdd7322201736b": {
          "model_module": "@jupyter-widgets/base",
          "model_name": "LayoutModel",
          "model_module_version": "1.2.0",
          "state": {
            "_view_name": "LayoutView",
            "grid_template_rows": null,
            "right": null,
            "justify_content": null,
            "_view_module": "@jupyter-widgets/base",
            "overflow": null,
            "_model_module_version": "1.2.0",
            "_view_count": null,
            "flex_flow": null,
            "width": null,
            "min_width": null,
            "border": null,
            "align_items": null,
            "bottom": null,
            "_model_module": "@jupyter-widgets/base",
            "top": null,
            "grid_column": null,
            "overflow_y": null,
            "overflow_x": null,
            "grid_auto_flow": null,
            "grid_area": null,
            "grid_template_columns": null,
            "flex": null,
            "_model_name": "LayoutModel",
            "justify_items": null,
            "grid_row": null,
            "max_height": null,
            "align_content": null,
            "visibility": null,
            "align_self": null,
            "height": null,
            "min_height": null,
            "padding": null,
            "grid_auto_rows": null,
            "grid_gap": null,
            "max_width": null,
            "order": null,
            "_view_module_version": "1.2.0",
            "grid_template_areas": null,
            "object_position": null,
            "object_fit": null,
            "grid_auto_columns": null,
            "margin": null,
            "display": null,
            "left": null
          }
        }
      }
    }
  },
  "cells": [
    {
      "cell_type": "markdown",
      "metadata": {
        "id": "view-in-github",
        "colab_type": "text"
      },
      "source": [
        "<a href=\"https://colab.research.google.com/github/shasitha33/Cohort-21/blob/main/Fellowship_Shared.ipynb\" target=\"_parent\"><img src=\"https://colab.research.google.com/assets/colab-badge.svg\" alt=\"Open In Colab\"/></a>"
      ]
    },
    {
      "cell_type": "markdown",
      "source": [
        "> Hi there! 🙋‍♂️\tI'm [Supun](https://www.linkedin.com/in/supun-weerakoon/)\n",
        "\n",
        "> In this Notebook I will walk through how to do Sentiment analysis using XLNet 😀\n",
        "\n",
        "> Due to resource limitations, I trained the model \n",
        "\n",
        "      *   Using only 0.13 % of total data (4,000 data points out of 3,000,000) 👨‍💻\n",
        "      *   Using only 3 Training epoches 👨‍💻\n",
        "\n",
        "> Under these constraints final model accuracy on test data is **95 %**\n",
        "\n",
        "> References can be found at the end of the notebook\n",
        "\n",
        "\n",
        "\n"
      ],
      "metadata": {
        "id": "SwsggHWCbfcF"
      }
    },
    {
      "cell_type": "markdown",
      "source": [
        "#Exploratory Data Analysis (EDA)"
      ],
      "metadata": {
        "id": "094E5fsXwutH"
      }
    },
    {
      "cell_type": "markdown",
      "source": [
        "###Import Libraries"
      ],
      "metadata": {
        "id": "R_-3a5YawUt9"
      }
    },
    {
      "cell_type": "code",
      "source": [
        "# Import libraries that is need to run the EDA Section\n",
        "import pandas as pd\n",
        "import numpy as np\n",
        "import seaborn as sns\n",
        "from IPython.display import display, HTML\n",
        "from datetime import datetime\n",
        "import matplotlib.pyplot as plt\n",
        "from matplotlib import rc\n",
        "import re\n",
        "\n",
        "print(f\"\\nCell Executed On : {datetime.now().strftime('%Y-%m-%d %H:%M:%S')}\\n\")"
      ],
      "metadata": {
        "colab": {
          "base_uri": "https://localhost:8080/"
        },
        "id": "2zBPrsvMmmC5",
        "outputId": "2aa74f61-3c86-4442-96f2-1cad131853c7"
      },
      "execution_count": null,
      "outputs": [
        {
          "output_type": "stream",
          "name": "stdout",
          "text": [
            "\n",
            "Cell Executed On : 2021-12-14 12:39:44\n",
            "\n"
          ]
        }
      ]
    },
    {
      "cell_type": "markdown",
      "source": [
        "###Data Extraction"
      ],
      "metadata": {
        "id": "3SyX2VXMwfwE"
      }
    },
    {
      "cell_type": "code",
      "source": [
        "# Read data in to pandas dataframes from data source \n",
        "ORIGINAL_TRAIN_DATA_PATH = '/content/Fellowship/Data/amazon_review_full_csv/train.csv'\n",
        "ORIGINAL_TEST_DATA_PATH = '/content/Fellowship/Data/amazon_review_full_csv/test.csv'\n",
        "\n",
        "df_train = pd.read_csv(ORIGINAL_TRAIN_DATA_PATH, header=None)\n",
        "df_test = pd.read_csv(ORIGINAL_TEST_DATA_PATH, header=None)\n",
        "\n",
        "print(f\"\\nCell Executed On : {datetime.now().strftime('%Y-%m-%d %H:%M:%S')}\\n\")"
      ],
      "metadata": {
        "colab": {
          "base_uri": "https://localhost:8080/"
        },
        "id": "x1bXobBbx-z0",
        "outputId": "8592bc32-c55f-4187-e0a7-2f08a314572f"
      },
      "execution_count": null,
      "outputs": [
        {
          "output_type": "stream",
          "name": "stdout",
          "text": [
            "\n",
            "Cell Executed On : 2021-12-14 12:40:31\n",
            "\n"
          ]
        }
      ]
    },
    {
      "cell_type": "markdown",
      "source": [
        "\n",
        "\n",
        "*   Printing Test & Train data sets will be a common task true out this notebook.\n",
        "*   Therefore let's define function to avoid repetition of codes."
      ],
      "metadata": {
        "id": "37e2Py_BX9-m"
      }
    },
    {
      "cell_type": "code",
      "source": [
        "# Function to print train & test functions\n",
        "\n",
        "def print_dfs(df_train,df_test):\n",
        "  print('\\nTraining Dataset Sample: \\n')\n",
        "  display(df_train.head(2))\n",
        "  print('\\nTest Dataset Sample: \\n')\n",
        "  display(df_test.head(2))"
      ],
      "metadata": {
        "id": "GrhARxfcX8Ti"
      },
      "execution_count": null,
      "outputs": []
    },
    {
      "cell_type": "code",
      "source": [
        "# Print output at the end of process for clarification\n",
        "print_dfs(df_train,df_test)"
      ],
      "metadata": {
        "colab": {
          "base_uri": "https://localhost:8080/",
          "height": 311
        },
        "id": "ILFeoom7Ytnn",
        "outputId": "0d7e3e63-3742-4116-f1d5-64d514cd11d5"
      },
      "execution_count": null,
      "outputs": [
        {
          "output_type": "stream",
          "name": "stdout",
          "text": [
            "\n",
            "Training Dataset Sample: \n",
            "\n"
          ]
        },
        {
          "output_type": "display_data",
          "data": {
            "text/html": [
              "<div>\n",
              "<style scoped>\n",
              "    .dataframe tbody tr th:only-of-type {\n",
              "        vertical-align: middle;\n",
              "    }\n",
              "\n",
              "    .dataframe tbody tr th {\n",
              "        vertical-align: top;\n",
              "    }\n",
              "\n",
              "    .dataframe thead th {\n",
              "        text-align: right;\n",
              "    }\n",
              "</style>\n",
              "<table border=\"1\" class=\"dataframe\">\n",
              "  <thead>\n",
              "    <tr style=\"text-align: right;\">\n",
              "      <th></th>\n",
              "      <th>0</th>\n",
              "      <th>1</th>\n",
              "      <th>2</th>\n",
              "    </tr>\n",
              "  </thead>\n",
              "  <tbody>\n",
              "    <tr>\n",
              "      <th>0</th>\n",
              "      <td>3</td>\n",
              "      <td>more like funchuck</td>\n",
              "      <td>Gave this to my dad for a gag gift after direc...</td>\n",
              "    </tr>\n",
              "    <tr>\n",
              "      <th>1</th>\n",
              "      <td>5</td>\n",
              "      <td>Inspiring</td>\n",
              "      <td>I hope a lot of people hear this cd. We need m...</td>\n",
              "    </tr>\n",
              "  </tbody>\n",
              "</table>\n",
              "</div>"
            ],
            "text/plain": [
              "   0                   1                                                  2\n",
              "0  3  more like funchuck  Gave this to my dad for a gag gift after direc...\n",
              "1  5           Inspiring  I hope a lot of people hear this cd. We need m..."
            ]
          },
          "metadata": {}
        },
        {
          "output_type": "stream",
          "name": "stdout",
          "text": [
            "\n",
            "Test Dataset Sample: \n",
            "\n"
          ]
        },
        {
          "output_type": "display_data",
          "data": {
            "text/html": [
              "<div>\n",
              "<style scoped>\n",
              "    .dataframe tbody tr th:only-of-type {\n",
              "        vertical-align: middle;\n",
              "    }\n",
              "\n",
              "    .dataframe tbody tr th {\n",
              "        vertical-align: top;\n",
              "    }\n",
              "\n",
              "    .dataframe thead th {\n",
              "        text-align: right;\n",
              "    }\n",
              "</style>\n",
              "<table border=\"1\" class=\"dataframe\">\n",
              "  <thead>\n",
              "    <tr style=\"text-align: right;\">\n",
              "      <th></th>\n",
              "      <th>0</th>\n",
              "      <th>1</th>\n",
              "      <th>2</th>\n",
              "    </tr>\n",
              "  </thead>\n",
              "  <tbody>\n",
              "    <tr>\n",
              "      <th>0</th>\n",
              "      <td>1</td>\n",
              "      <td>mens ultrasheer</td>\n",
              "      <td>This model may be ok for sedentary types, but ...</td>\n",
              "    </tr>\n",
              "    <tr>\n",
              "      <th>1</th>\n",
              "      <td>4</td>\n",
              "      <td>Surprisingly delightful</td>\n",
              "      <td>This is a fast read filled with unexpected hum...</td>\n",
              "    </tr>\n",
              "  </tbody>\n",
              "</table>\n",
              "</div>"
            ],
            "text/plain": [
              "   0  ...                                                  2\n",
              "0  1  ...  This model may be ok for sedentary types, but ...\n",
              "1  4  ...  This is a fast read filled with unexpected hum...\n",
              "\n",
              "[2 rows x 3 columns]"
            ]
          },
          "metadata": {}
        }
      ]
    },
    {
      "cell_type": "markdown",
      "source": [
        "###Data Analysis"
      ],
      "metadata": {
        "id": "2Tu6Ib0lw7YV"
      }
    },
    {
      "cell_type": "code",
      "source": [
        "# Take a copy of dataframes to do changes\n",
        "dfc_train = df_train.copy()\n",
        "dfc_test = df_test.copy()\n",
        "\n",
        "# Rename column names to your friendly manner in both train & test datasets\n",
        "dfc_train.rename(columns={0:'Rating',1:'Review Title',2:'Review Text'},inplace=True)\n",
        "dfc_test.rename(columns={0:'Rating',1:'Review Title',2:'Review Text'},inplace=True)\n",
        "\n",
        "# Print output at the end of process for clarification\n",
        "print_dfs(dfc_train,dfc_test)"
      ],
      "metadata": {
        "colab": {
          "base_uri": "https://localhost:8080/",
          "height": 311
        },
        "id": "BQOnD3VZoYJG",
        "outputId": "25f4da98-face-4f9a-9662-ea3d9bf470fd"
      },
      "execution_count": null,
      "outputs": [
        {
          "output_type": "stream",
          "name": "stdout",
          "text": [
            "\n",
            "Training Dataset Sample: \n",
            "\n"
          ]
        },
        {
          "output_type": "display_data",
          "data": {
            "text/html": [
              "<div>\n",
              "<style scoped>\n",
              "    .dataframe tbody tr th:only-of-type {\n",
              "        vertical-align: middle;\n",
              "    }\n",
              "\n",
              "    .dataframe tbody tr th {\n",
              "        vertical-align: top;\n",
              "    }\n",
              "\n",
              "    .dataframe thead th {\n",
              "        text-align: right;\n",
              "    }\n",
              "</style>\n",
              "<table border=\"1\" class=\"dataframe\">\n",
              "  <thead>\n",
              "    <tr style=\"text-align: right;\">\n",
              "      <th></th>\n",
              "      <th>Rating</th>\n",
              "      <th>Review Title</th>\n",
              "      <th>Review Text</th>\n",
              "    </tr>\n",
              "  </thead>\n",
              "  <tbody>\n",
              "    <tr>\n",
              "      <th>0</th>\n",
              "      <td>3</td>\n",
              "      <td>more like funchuck</td>\n",
              "      <td>Gave this to my dad for a gag gift after direc...</td>\n",
              "    </tr>\n",
              "    <tr>\n",
              "      <th>1</th>\n",
              "      <td>5</td>\n",
              "      <td>Inspiring</td>\n",
              "      <td>I hope a lot of people hear this cd. We need m...</td>\n",
              "    </tr>\n",
              "  </tbody>\n",
              "</table>\n",
              "</div>"
            ],
            "text/plain": [
              "   Rating  ...                                        Review Text\n",
              "0       3  ...  Gave this to my dad for a gag gift after direc...\n",
              "1       5  ...  I hope a lot of people hear this cd. We need m...\n",
              "\n",
              "[2 rows x 3 columns]"
            ]
          },
          "metadata": {}
        },
        {
          "output_type": "stream",
          "name": "stdout",
          "text": [
            "\n",
            "Test Dataset Sample: \n",
            "\n"
          ]
        },
        {
          "output_type": "display_data",
          "data": {
            "text/html": [
              "<div>\n",
              "<style scoped>\n",
              "    .dataframe tbody tr th:only-of-type {\n",
              "        vertical-align: middle;\n",
              "    }\n",
              "\n",
              "    .dataframe tbody tr th {\n",
              "        vertical-align: top;\n",
              "    }\n",
              "\n",
              "    .dataframe thead th {\n",
              "        text-align: right;\n",
              "    }\n",
              "</style>\n",
              "<table border=\"1\" class=\"dataframe\">\n",
              "  <thead>\n",
              "    <tr style=\"text-align: right;\">\n",
              "      <th></th>\n",
              "      <th>Rating</th>\n",
              "      <th>Review Title</th>\n",
              "      <th>Review Text</th>\n",
              "    </tr>\n",
              "  </thead>\n",
              "  <tbody>\n",
              "    <tr>\n",
              "      <th>0</th>\n",
              "      <td>1</td>\n",
              "      <td>mens ultrasheer</td>\n",
              "      <td>This model may be ok for sedentary types, but ...</td>\n",
              "    </tr>\n",
              "    <tr>\n",
              "      <th>1</th>\n",
              "      <td>4</td>\n",
              "      <td>Surprisingly delightful</td>\n",
              "      <td>This is a fast read filled with unexpected hum...</td>\n",
              "    </tr>\n",
              "  </tbody>\n",
              "</table>\n",
              "</div>"
            ],
            "text/plain": [
              "   Rating  ...                                        Review Text\n",
              "0       1  ...  This model may be ok for sedentary types, but ...\n",
              "1       4  ...  This is a fast read filled with unexpected hum...\n",
              "\n",
              "[2 rows x 3 columns]"
            ]
          },
          "metadata": {}
        }
      ]
    },
    {
      "cell_type": "markdown",
      "source": [
        "Statistics About Dataset"
      ],
      "metadata": {
        "id": "qzjGfK4TyDme"
      }
    },
    {
      "cell_type": "code",
      "source": [
        "# Lets explore some statistics about datasets\n",
        "print('\\nTraining Dataset Information: \\n')\n",
        "display(dfc_train.describe())\n",
        "\n",
        "print('\\nTest Dataset Information: \\n')\n",
        "display(dfc_test.describe())"
      ],
      "metadata": {
        "colab": {
          "base_uri": "https://localhost:8080/",
          "height": 687
        },
        "id": "PHw3LByIsCVp",
        "outputId": "b725de4c-2850-41b5-cc62-1812fe7e6304"
      },
      "execution_count": null,
      "outputs": [
        {
          "output_type": "stream",
          "name": "stdout",
          "text": [
            "\n",
            "Training Dataset Information: \n",
            "\n"
          ]
        },
        {
          "output_type": "display_data",
          "data": {
            "text/html": [
              "<div>\n",
              "<style scoped>\n",
              "    .dataframe tbody tr th:only-of-type {\n",
              "        vertical-align: middle;\n",
              "    }\n",
              "\n",
              "    .dataframe tbody tr th {\n",
              "        vertical-align: top;\n",
              "    }\n",
              "\n",
              "    .dataframe thead th {\n",
              "        text-align: right;\n",
              "    }\n",
              "</style>\n",
              "<table border=\"1\" class=\"dataframe\">\n",
              "  <thead>\n",
              "    <tr style=\"text-align: right;\">\n",
              "      <th></th>\n",
              "      <th>Rating</th>\n",
              "    </tr>\n",
              "  </thead>\n",
              "  <tbody>\n",
              "    <tr>\n",
              "      <th>count</th>\n",
              "      <td>3.000000e+06</td>\n",
              "    </tr>\n",
              "    <tr>\n",
              "      <th>mean</th>\n",
              "      <td>3.000000e+00</td>\n",
              "    </tr>\n",
              "    <tr>\n",
              "      <th>std</th>\n",
              "      <td>1.414214e+00</td>\n",
              "    </tr>\n",
              "    <tr>\n",
              "      <th>min</th>\n",
              "      <td>1.000000e+00</td>\n",
              "    </tr>\n",
              "    <tr>\n",
              "      <th>25%</th>\n",
              "      <td>2.000000e+00</td>\n",
              "    </tr>\n",
              "    <tr>\n",
              "      <th>50%</th>\n",
              "      <td>3.000000e+00</td>\n",
              "    </tr>\n",
              "    <tr>\n",
              "      <th>75%</th>\n",
              "      <td>4.000000e+00</td>\n",
              "    </tr>\n",
              "    <tr>\n",
              "      <th>max</th>\n",
              "      <td>5.000000e+00</td>\n",
              "    </tr>\n",
              "  </tbody>\n",
              "</table>\n",
              "</div>"
            ],
            "text/plain": [
              "             Rating\n",
              "count  3.000000e+06\n",
              "mean   3.000000e+00\n",
              "std    1.414214e+00\n",
              "min    1.000000e+00\n",
              "25%    2.000000e+00\n",
              "50%    3.000000e+00\n",
              "75%    4.000000e+00\n",
              "max    5.000000e+00"
            ]
          },
          "metadata": {}
        },
        {
          "output_type": "stream",
          "name": "stdout",
          "text": [
            "\n",
            "Test Dataset Information: \n",
            "\n"
          ]
        },
        {
          "output_type": "display_data",
          "data": {
            "text/html": [
              "<div>\n",
              "<style scoped>\n",
              "    .dataframe tbody tr th:only-of-type {\n",
              "        vertical-align: middle;\n",
              "    }\n",
              "\n",
              "    .dataframe tbody tr th {\n",
              "        vertical-align: top;\n",
              "    }\n",
              "\n",
              "    .dataframe thead th {\n",
              "        text-align: right;\n",
              "    }\n",
              "</style>\n",
              "<table border=\"1\" class=\"dataframe\">\n",
              "  <thead>\n",
              "    <tr style=\"text-align: right;\">\n",
              "      <th></th>\n",
              "      <th>Rating</th>\n",
              "    </tr>\n",
              "  </thead>\n",
              "  <tbody>\n",
              "    <tr>\n",
              "      <th>count</th>\n",
              "      <td>650000.000000</td>\n",
              "    </tr>\n",
              "    <tr>\n",
              "      <th>mean</th>\n",
              "      <td>3.000000</td>\n",
              "    </tr>\n",
              "    <tr>\n",
              "      <th>std</th>\n",
              "      <td>1.414215</td>\n",
              "    </tr>\n",
              "    <tr>\n",
              "      <th>min</th>\n",
              "      <td>1.000000</td>\n",
              "    </tr>\n",
              "    <tr>\n",
              "      <th>25%</th>\n",
              "      <td>2.000000</td>\n",
              "    </tr>\n",
              "    <tr>\n",
              "      <th>50%</th>\n",
              "      <td>3.000000</td>\n",
              "    </tr>\n",
              "    <tr>\n",
              "      <th>75%</th>\n",
              "      <td>4.000000</td>\n",
              "    </tr>\n",
              "    <tr>\n",
              "      <th>max</th>\n",
              "      <td>5.000000</td>\n",
              "    </tr>\n",
              "  </tbody>\n",
              "</table>\n",
              "</div>"
            ],
            "text/plain": [
              "              Rating\n",
              "count  650000.000000\n",
              "mean        3.000000\n",
              "std         1.414215\n",
              "min         1.000000\n",
              "25%         2.000000\n",
              "50%         3.000000\n",
              "75%         4.000000\n",
              "max         5.000000"
            ]
          },
          "metadata": {}
        }
      ]
    },
    {
      "cell_type": "code",
      "source": [
        "# Let's look at review counts of each ratings for train and test data sets\n",
        "fig, axs = plt.subplots(ncols=2)\n",
        "sns.countplot(x='Rating',data=dfc_train,palette='rainbow',ax=axs[0]).set(title='\\nReview Count For Training Data\\n')\n",
        "sns.countplot(x='Rating',data=dfc_test,palette='rainbow',ax=axs[1]).set(title='\\nReview Count For Test Data\\n')\n",
        "plt.subplots_adjust(left=0.1, bottom=0.1,right=0.9,top=0.9,wspace=1, hspace=0.4)\n",
        "plt.show()"
      ],
      "metadata": {
        "colab": {
          "base_uri": "https://localhost:8080/",
          "height": 338
        },
        "id": "piyDG1IGU4Lu",
        "outputId": "0dda8265-b38c-4400-ff39-7b5f7415f1c5"
      },
      "execution_count": null,
      "outputs": [
        {
          "output_type": "display_data",
          "data": {
            "image/png": "[encoded data removed]",
            "text/plain": [
              "<Figure size 432x288 with 2 Axes>"
            ]
          },
          "metadata": {
            "needs_background": "light"
          }
        }
      ]
    },
    {
      "cell_type": "markdown",
      "source": [
        "\n",
        "\n",
        "*   From the results it is clear that train set has total 3,000,000 records and test set has 650,000 records.\n",
        "*   Each Rating got same number of reviews. So dataset is balanced and we do not need to do imbalanced data handling\n"
      ],
      "metadata": {
        "id": "kVzmgwICxIG8"
      }
    },
    {
      "cell_type": "code",
      "source": [
        "#Lets check dataset is imbalance or not\n",
        "print('\\nTrain Dataset Review Count per Each Rating: \\n')\n",
        "display(dfc_train.groupby(by=['Rating']).count())\n",
        "\n",
        "print('\\nTest Dataset Review Count per Each Rating: \\n')\n",
        "display(dfc_test.groupby(by=['Rating']).count())"
      ],
      "metadata": {
        "colab": {
          "base_uri": "https://localhost:8080/",
          "height": 562
        },
        "id": "60ciJqatvulu",
        "outputId": "c87f7fe8-8ca3-4512-a0f4-128781841dc9"
      },
      "execution_count": null,
      "outputs": [
        {
          "output_type": "stream",
          "name": "stdout",
          "text": [
            "\n",
            "Train Dataset Review Count per Each Rating: \n",
            "\n"
          ]
        },
        {
          "output_type": "display_data",
          "data": {
            "text/html": [
              "<div>\n",
              "<style scoped>\n",
              "    .dataframe tbody tr th:only-of-type {\n",
              "        vertical-align: middle;\n",
              "    }\n",
              "\n",
              "    .dataframe tbody tr th {\n",
              "        vertical-align: top;\n",
              "    }\n",
              "\n",
              "    .dataframe thead th {\n",
              "        text-align: right;\n",
              "    }\n",
              "</style>\n",
              "<table border=\"1\" class=\"dataframe\">\n",
              "  <thead>\n",
              "    <tr style=\"text-align: right;\">\n",
              "      <th></th>\n",
              "      <th>Review Title</th>\n",
              "      <th>Review Text</th>\n",
              "    </tr>\n",
              "    <tr>\n",
              "      <th>Rating</th>\n",
              "      <th></th>\n",
              "      <th></th>\n",
              "    </tr>\n",
              "  </thead>\n",
              "  <tbody>\n",
              "    <tr>\n",
              "      <th>1</th>\n",
              "      <td>599988</td>\n",
              "      <td>600000</td>\n",
              "    </tr>\n",
              "    <tr>\n",
              "      <th>2</th>\n",
              "      <td>599977</td>\n",
              "      <td>600000</td>\n",
              "    </tr>\n",
              "    <tr>\n",
              "      <th>3</th>\n",
              "      <td>599977</td>\n",
              "      <td>600000</td>\n",
              "    </tr>\n",
              "    <tr>\n",
              "      <th>4</th>\n",
              "      <td>599987</td>\n",
              "      <td>600000</td>\n",
              "    </tr>\n",
              "    <tr>\n",
              "      <th>5</th>\n",
              "      <td>599995</td>\n",
              "      <td>600000</td>\n",
              "    </tr>\n",
              "  </tbody>\n",
              "</table>\n",
              "</div>"
            ],
            "text/plain": [
              "        Review Title  Review Text\n",
              "Rating                           \n",
              "1             599988       600000\n",
              "2             599977       600000\n",
              "3             599977       600000\n",
              "4             599987       600000\n",
              "5             599995       600000"
            ]
          },
          "metadata": {}
        },
        {
          "output_type": "stream",
          "name": "stdout",
          "text": [
            "\n",
            "Test Dataset Review Count per Each Rating: \n",
            "\n"
          ]
        },
        {
          "output_type": "display_data",
          "data": {
            "text/html": [
              "<div>\n",
              "<style scoped>\n",
              "    .dataframe tbody tr th:only-of-type {\n",
              "        vertical-align: middle;\n",
              "    }\n",
              "\n",
              "    .dataframe tbody tr th {\n",
              "        vertical-align: top;\n",
              "    }\n",
              "\n",
              "    .dataframe thead th {\n",
              "        text-align: right;\n",
              "    }\n",
              "</style>\n",
              "<table border=\"1\" class=\"dataframe\">\n",
              "  <thead>\n",
              "    <tr style=\"text-align: right;\">\n",
              "      <th></th>\n",
              "      <th>Review Title</th>\n",
              "      <th>Review Text</th>\n",
              "    </tr>\n",
              "    <tr>\n",
              "      <th>Rating</th>\n",
              "      <th></th>\n",
              "      <th></th>\n",
              "    </tr>\n",
              "  </thead>\n",
              "  <tbody>\n",
              "    <tr>\n",
              "      <th>1</th>\n",
              "      <td>129999</td>\n",
              "      <td>130000</td>\n",
              "    </tr>\n",
              "    <tr>\n",
              "      <th>2</th>\n",
              "      <td>129999</td>\n",
              "      <td>130000</td>\n",
              "    </tr>\n",
              "    <tr>\n",
              "      <th>3</th>\n",
              "      <td>129999</td>\n",
              "      <td>130000</td>\n",
              "    </tr>\n",
              "    <tr>\n",
              "      <th>4</th>\n",
              "      <td>129996</td>\n",
              "      <td>130000</td>\n",
              "    </tr>\n",
              "    <tr>\n",
              "      <th>5</th>\n",
              "      <td>129995</td>\n",
              "      <td>130000</td>\n",
              "    </tr>\n",
              "  </tbody>\n",
              "</table>\n",
              "</div>"
            ],
            "text/plain": [
              "        Review Title  Review Text\n",
              "Rating                           \n",
              "1             129999       130000\n",
              "2             129999       130000\n",
              "3             129999       130000\n",
              "4             129996       130000\n",
              "5             129995       130000"
            ]
          },
          "metadata": {}
        }
      ]
    },
    {
      "cell_type": "markdown",
      "source": [
        "*   We can see some reviews do not contain Titles.\n",
        "*   Titles of reviews are short & sometimes it can be misleading. (Ex: \"Bought Yesterday. Returned Today.\")\n",
        "*   Therefore it is good practice to drop Title column and move forward."
      ],
      "metadata": {
        "id": "ooZfvvBJXbN3"
      }
    },
    {
      "cell_type": "markdown",
      "source": [
        "###Data pre-processing"
      ],
      "metadata": {
        "id": "4SXN01HibK4e"
      }
    },
    {
      "cell_type": "code",
      "source": [
        "# Drop \"Review Title\" column from dataframes\n",
        "dfc_train.drop('Review Title',axis=1,inplace=True)\n",
        "dfc_test.drop('Review Title',axis=1,inplace=True)\n",
        "\n",
        "# Print output at the end of process for clarification\n",
        "print_dfs(dfc_train,dfc_test)"
      ],
      "metadata": {
        "colab": {
          "base_uri": "https://localhost:8080/",
          "height": 311
        },
        "id": "PJJfpmoqXgHr",
        "outputId": "c98514d0-d310-4b6c-9980-6043f62e5919"
      },
      "execution_count": null,
      "outputs": [
        {
          "output_type": "stream",
          "name": "stdout",
          "text": [
            "\n",
            "Training Dataset Sample: \n",
            "\n"
          ]
        },
        {
          "output_type": "display_data",
          "data": {
            "text/html": [
              "<div>\n",
              "<style scoped>\n",
              "    .dataframe tbody tr th:only-of-type {\n",
              "        vertical-align: middle;\n",
              "    }\n",
              "\n",
              "    .dataframe tbody tr th {\n",
              "        vertical-align: top;\n",
              "    }\n",
              "\n",
              "    .dataframe thead th {\n",
              "        text-align: right;\n",
              "    }\n",
              "</style>\n",
              "<table border=\"1\" class=\"dataframe\">\n",
              "  <thead>\n",
              "    <tr style=\"text-align: right;\">\n",
              "      <th></th>\n",
              "      <th>Rating</th>\n",
              "      <th>Review Text</th>\n",
              "    </tr>\n",
              "  </thead>\n",
              "  <tbody>\n",
              "    <tr>\n",
              "      <th>0</th>\n",
              "      <td>3</td>\n",
              "      <td>Gave this to my dad for a gag gift after direc...</td>\n",
              "    </tr>\n",
              "    <tr>\n",
              "      <th>1</th>\n",
              "      <td>5</td>\n",
              "      <td>I hope a lot of people hear this cd. We need m...</td>\n",
              "    </tr>\n",
              "  </tbody>\n",
              "</table>\n",
              "</div>"
            ],
            "text/plain": [
              "   Rating                                        Review Text\n",
              "0       3  Gave this to my dad for a gag gift after direc...\n",
              "1       5  I hope a lot of people hear this cd. We need m..."
            ]
          },
          "metadata": {}
        },
        {
          "output_type": "stream",
          "name": "stdout",
          "text": [
            "\n",
            "Test Dataset Sample: \n",
            "\n"
          ]
        },
        {
          "output_type": "display_data",
          "data": {
            "text/html": [
              "<div>\n",
              "<style scoped>\n",
              "    .dataframe tbody tr th:only-of-type {\n",
              "        vertical-align: middle;\n",
              "    }\n",
              "\n",
              "    .dataframe tbody tr th {\n",
              "        vertical-align: top;\n",
              "    }\n",
              "\n",
              "    .dataframe thead th {\n",
              "        text-align: right;\n",
              "    }\n",
              "</style>\n",
              "<table border=\"1\" class=\"dataframe\">\n",
              "  <thead>\n",
              "    <tr style=\"text-align: right;\">\n",
              "      <th></th>\n",
              "      <th>Rating</th>\n",
              "      <th>Review Text</th>\n",
              "    </tr>\n",
              "  </thead>\n",
              "  <tbody>\n",
              "    <tr>\n",
              "      <th>0</th>\n",
              "      <td>1</td>\n",
              "      <td>This model may be ok for sedentary types, but ...</td>\n",
              "    </tr>\n",
              "    <tr>\n",
              "      <th>1</th>\n",
              "      <td>4</td>\n",
              "      <td>This is a fast read filled with unexpected hum...</td>\n",
              "    </tr>\n",
              "  </tbody>\n",
              "</table>\n",
              "</div>"
            ],
            "text/plain": [
              "   Rating                                        Review Text\n",
              "0       1  This model may be ok for sedentary types, but ...\n",
              "1       4  This is a fast read filled with unexpected hum..."
            ]
          },
          "metadata": {}
        }
      ]
    },
    {
      "cell_type": "markdown",
      "source": [
        "\n",
        "*   We can use Easy Data Augmentation (EDA) Techniques to generate more data & avoid overfitting.\n",
        "*   But we have 3 million data to process.\n",
        "*   So we can skip using Easy Data Augmentation Techniques (EDA).\n"
      ],
      "metadata": {
        "id": "71Y5-kUrg3qS"
      }
    },
    {
      "cell_type": "markdown",
      "source": [
        "> Due to resource limitations I decided to downsample the data set in below methode.\n",
        "\n",
        "\n",
        "* Only consider Rating 1 as Negative Sentiment Class & Rating 5 as Positive Sentiment Class.\n",
        "* Drop reviews related to rating 2,3 & 4.\n",
        "* Even after that train dataset contains total of 1,200,000 reviews. \n",
        "* So I downsample further by considering only 2,000 reviews from each class.\n",
        "* If the model accuracy is low then I will increase this sample size and retrain the model.\n"
      ],
      "metadata": {
        "id": "80-K7wIbcELt"
      }
    },
    {
      "cell_type": "code",
      "source": [
        "# Downsampling to meet resource limitations.\n",
        "SAMPLE_SIZE = 2000 # We can increase this value if the model performance is bad.\n",
        "\n",
        "shuffle_train_rating_1 = dfc_train[dfc_train['Rating']==1].sample(n=SAMPLE_SIZE,random_state=33).reset_index(drop=True)\n",
        "shuffle_train_rating_5 = dfc_train[dfc_train['Rating']==5].sample(n=SAMPLE_SIZE,random_state=33).reset_index(drop=True)\n",
        "shuffle_test_rating_1 = dfc_test[dfc_test['Rating']==1].sample(n=SAMPLE_SIZE,random_state=33).reset_index(drop=True)\n",
        "shuffle_test_rating_5 = dfc_test[dfc_test['Rating']==5].sample(n=SAMPLE_SIZE,random_state=33).reset_index(drop=True)\n",
        "\n",
        "train_df = pd.concat([shuffle_train_rating_1,shuffle_train_rating_5]).sample(frac=1,random_state=33).reset_index(drop=True)\n",
        "test_df = pd.concat([shuffle_test_rating_1,shuffle_test_rating_5]).sample(frac=1,random_state=33).reset_index(drop=True)\n",
        "\n",
        "# Let's look at review counts of each ratings for train and test data sets\n",
        "fig, axs = plt.subplots(ncols=2)\n",
        "sns.countplot(x='Rating',data=train_df,palette='rainbow',ax=axs[0]).set(title='\\nReview Count For \\nDownsampled Training Data\\n')\n",
        "sns.countplot(x='Rating',data=test_df,palette='rainbow',ax=axs[1]).set(title='\\nReview Count For \\nDownsampled Test Data\\n')\n",
        "plt.subplots_adjust(left=0.1, bottom=0.1,right=0.9,top=0.9,wspace=2, hspace=0.4)\n",
        "plt.show()"
      ],
      "metadata": {
        "colab": {
          "base_uri": "https://localhost:8080/",
          "height": 353
        },
        "id": "TNODfEhHbwnn",
        "outputId": "50757cfd-38eb-4425-b285-102f05bbd8d4"
      },
      "execution_count": null,
      "outputs": [
        {
          "output_type": "display_data",
          "data": {
            "image/png": "[encoded data removed]",
            "text/plain": [
              "<Figure size 432x288 with 2 Axes>"
            ]
          },
          "metadata": {
            "needs_background": "light"
          }
        }
      ]
    },
    {
      "cell_type": "markdown",
      "source": [
        "> Now It's Time To Do Text Cleaning !\n",
        "\n",
        "*   Replace Rating 1 lable in to \"Negative\" lable\n",
        "*   Replace Rating 5 lable in to \"Positive\" lable\n",
        "*   Remove tags from \"Review Text\"\n",
        "*   Remove hyperlinks from \"Review Text\"\n",
        "*   Remove emojis from \"Review Text\"\n",
        "*   Remove numerical characters from \"Review Text\"\n",
        "*   Remove tabs from \"Review Text\"\n",
        "*   Remove extra spaces from \"Review Text\""
      ],
      "metadata": {
        "id": "qYX4y0QDmVtC"
      }
    },
    {
      "cell_type": "code",
      "source": [
        "#Replace Rating \"1\" in to \"Negative\" lable & Replace Rating \"5\" in to \"Positive\" lable\n",
        "\n",
        "train_df['Rating'] = train_df['Rating'].apply(lambda x : 'Positive' if x==5 else 'Negative')\n",
        "test_df['Rating'] = test_df['Rating'].apply(lambda x : 'Positive' if x==5 else 'Negative') \n",
        "\n",
        "# Print output at the end of process for clarification\n",
        "print_dfs(train_df,test_df)"
      ],
      "metadata": {
        "colab": {
          "base_uri": "https://localhost:8080/",
          "height": 311
        },
        "id": "b3uwmkU-nqAL",
        "outputId": "d0b72d6c-24fc-437b-a5bf-ecb4e532bf60"
      },
      "execution_count": null,
      "outputs": [
        {
          "output_type": "stream",
          "name": "stdout",
          "text": [
            "\n",
            "Training Dataset Sample: \n",
            "\n"
          ]
        },
        {
          "output_type": "display_data",
          "data": {
            "text/html": [
              "<div>\n",
              "<style scoped>\n",
              "    .dataframe tbody tr th:only-of-type {\n",
              "        vertical-align: middle;\n",
              "    }\n",
              "\n",
              "    .dataframe tbody tr th {\n",
              "        vertical-align: top;\n",
              "    }\n",
              "\n",
              "    .dataframe thead th {\n",
              "        text-align: right;\n",
              "    }\n",
              "</style>\n",
              "<table border=\"1\" class=\"dataframe\">\n",
              "  <thead>\n",
              "    <tr style=\"text-align: right;\">\n",
              "      <th></th>\n",
              "      <th>Rating</th>\n",
              "      <th>Review Text</th>\n",
              "    </tr>\n",
              "  </thead>\n",
              "  <tbody>\n",
              "    <tr>\n",
              "      <th>0</th>\n",
              "      <td>Negative</td>\n",
              "      <td>For the most part these remixes lack even an i...</td>\n",
              "    </tr>\n",
              "    <tr>\n",
              "      <th>1</th>\n",
              "      <td>Positive</td>\n",
              "      <td>This book deals with situations where we sabot...</td>\n",
              "    </tr>\n",
              "  </tbody>\n",
              "</table>\n",
              "</div>"
            ],
            "text/plain": [
              "     Rating                                        Review Text\n",
              "0  Negative  For the most part these remixes lack even an i...\n",
              "1  Positive  This book deals with situations where we sabot..."
            ]
          },
          "metadata": {}
        },
        {
          "output_type": "stream",
          "name": "stdout",
          "text": [
            "\n",
            "Test Dataset Sample: \n",
            "\n"
          ]
        },
        {
          "output_type": "display_data",
          "data": {
            "text/html": [
              "<div>\n",
              "<style scoped>\n",
              "    .dataframe tbody tr th:only-of-type {\n",
              "        vertical-align: middle;\n",
              "    }\n",
              "\n",
              "    .dataframe tbody tr th {\n",
              "        vertical-align: top;\n",
              "    }\n",
              "\n",
              "    .dataframe thead th {\n",
              "        text-align: right;\n",
              "    }\n",
              "</style>\n",
              "<table border=\"1\" class=\"dataframe\">\n",
              "  <thead>\n",
              "    <tr style=\"text-align: right;\">\n",
              "      <th></th>\n",
              "      <th>Rating</th>\n",
              "      <th>Review Text</th>\n",
              "    </tr>\n",
              "  </thead>\n",
              "  <tbody>\n",
              "    <tr>\n",
              "      <th>0</th>\n",
              "      <td>Negative</td>\n",
              "      <td>If I could give it 0 stars, I would. All the l...</td>\n",
              "    </tr>\n",
              "    <tr>\n",
              "      <th>1</th>\n",
              "      <td>Positive</td>\n",
              "      <td>I have had three children and after each pregn...</td>\n",
              "    </tr>\n",
              "  </tbody>\n",
              "</table>\n",
              "</div>"
            ],
            "text/plain": [
              "     Rating                                        Review Text\n",
              "0  Negative  If I could give it 0 stars, I would. All the l...\n",
              "1  Positive  I have had three children and after each pregn..."
            ]
          },
          "metadata": {}
        }
      ]
    },
    {
      "cell_type": "markdown",
      "source": [
        "Cleaning Text Data"
      ],
      "metadata": {
        "id": "trLxBmVLPGRj"
      }
    },
    {
      "cell_type": "code",
      "source": [
        "# Function to clean review texts\n",
        "def clean_text(text):\n",
        "    text = re.sub(r\"@[A-Za-z0-9]+\", ' ', text)  # remove tag names\n",
        "    text = re.sub('http[s]?://\\S+', '', text)  # remove hyperlinks \n",
        "    text = re.sub(r\"[^a-zA-z.!?'0-9]\", ' ', text)  # remove emojis\n",
        "    text = re.sub(r\"[^a-zA-z]\", ' ', text)  # remove numerical characters\n",
        "    text = re.sub('\\t', ' ',  text)  # remove tabs\n",
        "    text = re.sub(r\" +\", ' ', text)  # remove extra spaces\n",
        "    return text.lower()\n",
        "\n",
        "# Let's test above function\n",
        "test_review = '@Supun Can you #go to this web--adress with 33 seconds? :-) https://www.SupunWeerakoon./33 & user name is Kandy33'\n",
        "print(f'Input To Function: \\n{test_review}')\n",
        "print('\\nOutput Of Function: ')\n",
        "clean_text(test_review)"
      ],
      "metadata": {
        "id": "EzHxthgn3dZD",
        "colab": {
          "base_uri": "https://localhost:8080/",
          "height": 104
        },
        "outputId": "4a8a738f-efde-4316-8013-7c2402e4fec2"
      },
      "execution_count": null,
      "outputs": [
        {
          "output_type": "stream",
          "name": "stdout",
          "text": [
            "Input To Function: \n",
            "@Supun Can you #go to this web--adress with 33 seconds? :-) https://www.SupunWeerakoon./33 & user name is Kandy33\n",
            "\n",
            "Output Of Function: \n"
          ]
        },
        {
          "output_type": "execute_result",
          "data": {
            "application/vnd.google.colaboratory.intrinsic+json": {
              "type": "string"
            },
            "text/plain": [
              "' can you go to this web adress with seconds user name is kandy '"
            ]
          },
          "metadata": {},
          "execution_count": 151
        }
      ]
    },
    {
      "cell_type": "code",
      "source": [
        "# Clean Review Text\n",
        "train_df['Review Text'] = train_df['Review Text'].apply(clean_text)\n",
        "test_df['Review Text'] = test_df['Review Text'].apply(clean_text)\n",
        "\n",
        "# Print output at the end of process for clarification\n",
        "print_dfs(train_df,test_df)\n",
        "\n",
        "# Save this data set for future use.\n",
        "train_df.to_csv('Train.csv',index=False)\n",
        "test_df.to_csv('Test.csv',index=False)"
      ],
      "metadata": {
        "id": "N1gWUol6k01i",
        "colab": {
          "base_uri": "https://localhost:8080/",
          "height": 311
        },
        "outputId": "3076b556-6d71-407b-b633-4237885267c3"
      },
      "execution_count": null,
      "outputs": [
        {
          "output_type": "stream",
          "name": "stdout",
          "text": [
            "\n",
            "Training Dataset Sample: \n",
            "\n"
          ]
        },
        {
          "output_type": "display_data",
          "data": {
            "text/html": [
              "<div>\n",
              "<style scoped>\n",
              "    .dataframe tbody tr th:only-of-type {\n",
              "        vertical-align: middle;\n",
              "    }\n",
              "\n",
              "    .dataframe tbody tr th {\n",
              "        vertical-align: top;\n",
              "    }\n",
              "\n",
              "    .dataframe thead th {\n",
              "        text-align: right;\n",
              "    }\n",
              "</style>\n",
              "<table border=\"1\" class=\"dataframe\">\n",
              "  <thead>\n",
              "    <tr style=\"text-align: right;\">\n",
              "      <th></th>\n",
              "      <th>Rating</th>\n",
              "      <th>Review Text</th>\n",
              "    </tr>\n",
              "  </thead>\n",
              "  <tbody>\n",
              "    <tr>\n",
              "      <th>0</th>\n",
              "      <td>Negative</td>\n",
              "      <td>for the most part these remixes lack even an i...</td>\n",
              "    </tr>\n",
              "    <tr>\n",
              "      <th>1</th>\n",
              "      <td>Positive</td>\n",
              "      <td>this book deals with situations where we sabot...</td>\n",
              "    </tr>\n",
              "  </tbody>\n",
              "</table>\n",
              "</div>"
            ],
            "text/plain": [
              "     Rating                                        Review Text\n",
              "0  Negative  for the most part these remixes lack even an i...\n",
              "1  Positive  this book deals with situations where we sabot..."
            ]
          },
          "metadata": {}
        },
        {
          "output_type": "stream",
          "name": "stdout",
          "text": [
            "\n",
            "Test Dataset Sample: \n",
            "\n"
          ]
        },
        {
          "output_type": "display_data",
          "data": {
            "text/html": [
              "<div>\n",
              "<style scoped>\n",
              "    .dataframe tbody tr th:only-of-type {\n",
              "        vertical-align: middle;\n",
              "    }\n",
              "\n",
              "    .dataframe tbody tr th {\n",
              "        vertical-align: top;\n",
              "    }\n",
              "\n",
              "    .dataframe thead th {\n",
              "        text-align: right;\n",
              "    }\n",
              "</style>\n",
              "<table border=\"1\" class=\"dataframe\">\n",
              "  <thead>\n",
              "    <tr style=\"text-align: right;\">\n",
              "      <th></th>\n",
              "      <th>Rating</th>\n",
              "      <th>Review Text</th>\n",
              "    </tr>\n",
              "  </thead>\n",
              "  <tbody>\n",
              "    <tr>\n",
              "      <th>0</th>\n",
              "      <td>Negative</td>\n",
              "      <td>if i could give it stars i would all the lids ...</td>\n",
              "    </tr>\n",
              "    <tr>\n",
              "      <th>1</th>\n",
              "      <td>Positive</td>\n",
              "      <td>i have had three children and after each pregn...</td>\n",
              "    </tr>\n",
              "  </tbody>\n",
              "</table>\n",
              "</div>"
            ],
            "text/plain": [
              "     Rating                                        Review Text\n",
              "0  Negative  if i could give it stars i would all the lids ...\n",
              "1  Positive  i have had three children and after each pregn..."
            ]
          },
          "metadata": {}
        }
      ]
    },
    {
      "cell_type": "markdown",
      "source": [
        "#XLNet Model"
      ],
      "metadata": {
        "id": "dCtbmAQQx54S"
      }
    },
    {
      "cell_type": "markdown",
      "source": [
        "###Setup Environment "
      ],
      "metadata": {
        "id": "QtUSwuF8zU8T"
      }
    },
    {
      "cell_type": "code",
      "source": [
        "!nvidia-smi"
      ],
      "metadata": {
        "colab": {
          "base_uri": "https://localhost:8080/"
        },
        "id": "jPSjCLNNzUfC",
        "outputId": "056d8b9f-ce94-4615-c6ca-48b1abfa9332"
      },
      "execution_count": null,
      "outputs": [
        {
          "output_type": "stream",
          "name": "stdout",
          "text": [
            "Tue Dec 14 12:49:31 2021       \n",
            "+-----------------------------------------------------------------------------+\n",
            "| NVIDIA-SMI 495.44       Driver Version: 460.32.03    CUDA Version: 11.2     |\n",
            "|-------------------------------+----------------------+----------------------+\n",
            "| GPU  Name        Persistence-M| Bus-Id        Disp.A | Volatile Uncorr. ECC |\n",
            "| Fan  Temp  Perf  Pwr:Usage/Cap|         Memory-Usage | GPU-Util  Compute M. |\n",
            "|                               |                      |               MIG M. |\n",
            "|===============================+======================+======================|\n",
            "|   0  Tesla K80           Off  | 00000000:00:04.0 Off |                    0 |\n",
            "| N/A   61C    P8    33W / 149W |      0MiB / 11441MiB |      0%      Default |\n",
            "|                               |                      |                  N/A |\n",
            "+-------------------------------+----------------------+----------------------+\n",
            "                                                                               \n",
            "+-----------------------------------------------------------------------------+\n",
            "| Processes:                                                                  |\n",
            "|  GPU   GI   CI        PID   Type   Process name                  GPU Memory |\n",
            "|        ID   ID                                                   Usage      |\n",
            "|=============================================================================|\n",
            "|  No running processes found                                                 |\n",
            "+-----------------------------------------------------------------------------+\n"
          ]
        }
      ]
    },
    {
      "cell_type": "code",
      "source": [
        "!pip install sentencepiece transformers"
      ],
      "metadata": {
        "id": "5wbcBpSwramX"
      },
      "execution_count": null,
      "outputs": []
    },
    {
      "cell_type": "code",
      "source": [
        "import sentencepiece\n",
        "import transformers\n",
        "from transformers import XLNetTokenizer, XLNetModel, AdamW, get_linear_schedule_with_warmup\n",
        "from transformers import XLNetForSequenceClassification\n",
        "\n",
        "from sklearn.model_selection import train_test_split\n",
        "from sklearn import metrics\n",
        "from sklearn.metrics import confusion_matrix, classification_report, accuracy_score\n",
        "from collections import defaultdict\n",
        "from textwrap import wrap\n",
        "from pylab import rcParams\n",
        "\n",
        "import pandas as pd\n",
        "import numpy as np\n",
        "import seaborn as sns\n",
        "from IPython.display import display, HTML\n",
        "from datetime import datetime\n",
        "import matplotlib.pyplot as plt\n",
        "from matplotlib import rc\n",
        "import re\n",
        "\n",
        "import torch\n",
        "from torch import nn, optim\n",
        "from keras.preprocessing.sequence import pad_sequences\n",
        "from torch.utils.data import TensorDataset,RandomSampler,SequentialSampler\n",
        "from torch.utils.data import Dataset, DataLoader\n",
        "import torch.nn.functional as F"
      ],
      "metadata": {
        "id": "_HO7rY91z5Dv"
      },
      "execution_count": null,
      "outputs": []
    },
    {
      "cell_type": "code",
      "source": [
        "%matplotlib inline\n",
        "%config InlineBackend.figure_format='retina'\n",
        "RANDOM_SEED = 33\n",
        "np.random.seed(RANDOM_SEED)\n",
        "torch.manual_seed(RANDOM_SEED)\n",
        "\n",
        "device = torch.device(\"cuda:0\" if torch.cuda.is_available() else \"cpu\")\n",
        "device"
      ],
      "metadata": {
        "id": "cwGZetw10V5f",
        "colab": {
          "base_uri": "https://localhost:8080/"
        },
        "outputId": "07c7ad9a-a275-477f-9e53-de83f96de751"
      },
      "execution_count": null,
      "outputs": [
        {
          "output_type": "execute_result",
          "data": {
            "text/plain": [
              "device(type='cuda', index=0)"
            ]
          },
          "metadata": {},
          "execution_count": 7
        }
      ]
    },
    {
      "cell_type": "markdown",
      "source": [
        "###Load Data"
      ],
      "metadata": {
        "id": "k54nKY2KJ97j"
      }
    },
    {
      "cell_type": "code",
      "source": [
        "# Setting file paths\n",
        "\n",
        "CLEAN_TRAIN_DATA_PATH = '/content/drive/Fellowship/Data/Train.csv'\n",
        "CLEAN_TEST_DATA_PATH = '/content/drive/Fellowship/Data/Test.csv'\n",
        "\n",
        "df_train = pd.read_csv(CLEAN_TRAIN_DATA_PATH)\n",
        "df_test = pd.read_csv(CLEAN_TEST_DATA_PATH)\n",
        "\n",
        "# Function to print train & test functions\n",
        "\n",
        "def print_dfs(df_train,df_test):\n",
        "  print('\\nTraining Dataset Sample: \\n')\n",
        "  display(df_train.head(2))\n",
        "  print('\\nTest Dataset Sample: \\n')\n",
        "  display(df_test.head(2))\n",
        "\n",
        "print_dfs(df_train,df_test) # Function is defined in EDA section as well"
      ],
      "metadata": {
        "colab": {
          "base_uri": "https://localhost:8080/",
          "height": 311
        },
        "id": "-Ww7d4iD66CV",
        "outputId": "c64c9d5a-abc8-4bda-c9cf-430356855715"
      },
      "execution_count": null,
      "outputs": [
        {
          "output_type": "stream",
          "name": "stdout",
          "text": [
            "\n",
            "Training Dataset Sample: \n",
            "\n"
          ]
        },
        {
          "output_type": "display_data",
          "data": {
            "text/html": [
              "<div>\n",
              "<style scoped>\n",
              "    .dataframe tbody tr th:only-of-type {\n",
              "        vertical-align: middle;\n",
              "    }\n",
              "\n",
              "    .dataframe tbody tr th {\n",
              "        vertical-align: top;\n",
              "    }\n",
              "\n",
              "    .dataframe thead th {\n",
              "        text-align: right;\n",
              "    }\n",
              "</style>\n",
              "<table border=\"1\" class=\"dataframe\">\n",
              "  <thead>\n",
              "    <tr style=\"text-align: right;\">\n",
              "      <th></th>\n",
              "      <th>Rating</th>\n",
              "      <th>Review Text</th>\n",
              "    </tr>\n",
              "  </thead>\n",
              "  <tbody>\n",
              "    <tr>\n",
              "      <th>0</th>\n",
              "      <td>Negative</td>\n",
              "      <td>for the most part these remixes lack even an i...</td>\n",
              "    </tr>\n",
              "    <tr>\n",
              "      <th>1</th>\n",
              "      <td>Positive</td>\n",
              "      <td>this book deals with situations where we sabot...</td>\n",
              "    </tr>\n",
              "  </tbody>\n",
              "</table>\n",
              "</div>"
            ],
            "text/plain": [
              "     Rating                                        Review Text\n",
              "0  Negative  for the most part these remixes lack even an i...\n",
              "1  Positive  this book deals with situations where we sabot..."
            ]
          },
          "metadata": {}
        },
        {
          "output_type": "stream",
          "name": "stdout",
          "text": [
            "\n",
            "Test Dataset Sample: \n",
            "\n"
          ]
        },
        {
          "output_type": "display_data",
          "data": {
            "text/html": [
              "<div>\n",
              "<style scoped>\n",
              "    .dataframe tbody tr th:only-of-type {\n",
              "        vertical-align: middle;\n",
              "    }\n",
              "\n",
              "    .dataframe tbody tr th {\n",
              "        vertical-align: top;\n",
              "    }\n",
              "\n",
              "    .dataframe thead th {\n",
              "        text-align: right;\n",
              "    }\n",
              "</style>\n",
              "<table border=\"1\" class=\"dataframe\">\n",
              "  <thead>\n",
              "    <tr style=\"text-align: right;\">\n",
              "      <th></th>\n",
              "      <th>Rating</th>\n",
              "      <th>Review Text</th>\n",
              "    </tr>\n",
              "  </thead>\n",
              "  <tbody>\n",
              "    <tr>\n",
              "      <th>0</th>\n",
              "      <td>Negative</td>\n",
              "      <td>if i could give it stars i would all the lids ...</td>\n",
              "    </tr>\n",
              "    <tr>\n",
              "      <th>1</th>\n",
              "      <td>Positive</td>\n",
              "      <td>i have had three children and after each pregn...</td>\n",
              "    </tr>\n",
              "  </tbody>\n",
              "</table>\n",
              "</div>"
            ],
            "text/plain": [
              "     Rating                                        Review Text\n",
              "0  Negative  if i could give it stars i would all the lids ...\n",
              "1  Positive  i have had three children and after each pregn..."
            ]
          },
          "metadata": {}
        }
      ]
    },
    {
      "cell_type": "code",
      "source": [
        "# Let's look at review counts of each ratings for train and test data sets\n",
        "fig, axs = plt.subplots(ncols=2)\n",
        "sns.countplot(x='Rating',data=df_train,palette='rainbow',ax=axs[0]).set(title='\\nReview Count For \\nDownsampled Training Data\\n')\n",
        "sns.countplot(x='Rating',data=df_test,palette='rainbow',ax=axs[1]).set(title='\\nReview Count For \\nDownsampled Test Data\\n')\n",
        "plt.subplots_adjust(left=0.1, bottom=0.1,right=0.9,top=0.9,wspace=2, hspace=0.4)\n",
        "plt.show()"
      ],
      "metadata": {
        "colab": {
          "base_uri": "https://localhost:8080/",
          "height": 349
        },
        "id": "Uusm5tufhSFm",
        "outputId": "dfa6c5d9-7ebf-41bd-bf7e-df2c0757005b"
      },
      "execution_count": null,
      "outputs": [
        {
          "output_type": "display_data",
          "data": {
            "image/png": "[encoded data removed]",
            "text/plain": [
              "<Figure size 432x288 with 2 Axes>"
            ]
          },
          "metadata": {
            "image/png": {
              "width": 435,
              "height": 332
            },
            "needs_background": "light"
          }
        }
      ]
    },
    {
      "cell_type": "markdown",
      "source": [
        "\n",
        "Encode \"Negative\" Label to 0 & \"Positive\" Label to 1\n",
        "\n"
      ],
      "metadata": {
        "id": "eFbw5hmeKsDo"
      }
    },
    {
      "cell_type": "code",
      "source": [
        "df_train['Rating'] = df_train['Rating'].apply(lambda x : 1 if x=='Positive' else 0)\n",
        "df_test['Rating'] = df_test['Rating'].apply(lambda x : 1 if x=='Positive' else 0)\n",
        "class_names = ['Negative', 'Positive']\n",
        "print_dfs(df_train,df_test) # Function is defined in EDA section"
      ],
      "metadata": {
        "colab": {
          "base_uri": "https://localhost:8080/",
          "height": 311
        },
        "id": "XGo7PfSm0ZUt",
        "outputId": "5a821a25-cb36-4c7a-b8c9-d61041033e07"
      },
      "execution_count": null,
      "outputs": [
        {
          "output_type": "stream",
          "name": "stdout",
          "text": [
            "\n",
            "Training Dataset Sample: \n",
            "\n"
          ]
        },
        {
          "output_type": "display_data",
          "data": {
            "text/html": [
              "<div>\n",
              "<style scoped>\n",
              "    .dataframe tbody tr th:only-of-type {\n",
              "        vertical-align: middle;\n",
              "    }\n",
              "\n",
              "    .dataframe tbody tr th {\n",
              "        vertical-align: top;\n",
              "    }\n",
              "\n",
              "    .dataframe thead th {\n",
              "        text-align: right;\n",
              "    }\n",
              "</style>\n",
              "<table border=\"1\" class=\"dataframe\">\n",
              "  <thead>\n",
              "    <tr style=\"text-align: right;\">\n",
              "      <th></th>\n",
              "      <th>Rating</th>\n",
              "      <th>Review Text</th>\n",
              "    </tr>\n",
              "  </thead>\n",
              "  <tbody>\n",
              "    <tr>\n",
              "      <th>0</th>\n",
              "      <td>0</td>\n",
              "      <td>for the most part these remixes lack even an i...</td>\n",
              "    </tr>\n",
              "    <tr>\n",
              "      <th>1</th>\n",
              "      <td>1</td>\n",
              "      <td>this book deals with situations where we sabot...</td>\n",
              "    </tr>\n",
              "  </tbody>\n",
              "</table>\n",
              "</div>"
            ],
            "text/plain": [
              "   Rating                                        Review Text\n",
              "0       0  for the most part these remixes lack even an i...\n",
              "1       1  this book deals with situations where we sabot..."
            ]
          },
          "metadata": {}
        },
        {
          "output_type": "stream",
          "name": "stdout",
          "text": [
            "\n",
            "Test Dataset Sample: \n",
            "\n"
          ]
        },
        {
          "output_type": "display_data",
          "data": {
            "text/html": [
              "<div>\n",
              "<style scoped>\n",
              "    .dataframe tbody tr th:only-of-type {\n",
              "        vertical-align: middle;\n",
              "    }\n",
              "\n",
              "    .dataframe tbody tr th {\n",
              "        vertical-align: top;\n",
              "    }\n",
              "\n",
              "    .dataframe thead th {\n",
              "        text-align: right;\n",
              "    }\n",
              "</style>\n",
              "<table border=\"1\" class=\"dataframe\">\n",
              "  <thead>\n",
              "    <tr style=\"text-align: right;\">\n",
              "      <th></th>\n",
              "      <th>Rating</th>\n",
              "      <th>Review Text</th>\n",
              "    </tr>\n",
              "  </thead>\n",
              "  <tbody>\n",
              "    <tr>\n",
              "      <th>0</th>\n",
              "      <td>0</td>\n",
              "      <td>if i could give it stars i would all the lids ...</td>\n",
              "    </tr>\n",
              "    <tr>\n",
              "      <th>1</th>\n",
              "      <td>1</td>\n",
              "      <td>i have had three children and after each pregn...</td>\n",
              "    </tr>\n",
              "  </tbody>\n",
              "</table>\n",
              "</div>"
            ],
            "text/plain": [
              "   Rating                                        Review Text\n",
              "0       0  if i could give it stars i would all the lids ...\n",
              "1       1  i have had three children and after each pregn..."
            ]
          },
          "metadata": {}
        }
      ]
    },
    {
      "cell_type": "markdown",
      "source": [
        "[Huggingface transformer’s XLNetTokenizer](https://huggingface.co/transformers/v2.11.0/model_doc/xlnet.html) is used as the base pretrained model"
      ],
      "metadata": {
        "id": "zGia8XbbLrWi"
      }
    },
    {
      "cell_type": "code",
      "source": [
        "PRE_TRAINED_MODEL = 'xlnet-base-cased'\n",
        "tokenizer = XLNetTokenizer.from_pretrained(PRE_TRAINED_MODEL)"
      ],
      "metadata": {
        "id": "cqLwSMe70Zat",
        "colab": {
          "base_uri": "https://localhost:8080/",
          "height": 113,
          "referenced_widgets": [
            "f548ca82d0f849ecbf3c8d832ee6ce53",
            "7e5c3cdae6ec42dbadcb4557717f6735",
            "53954358eba743248f9f5ae434cfff55",
            "0e68fd3a6a07424b98e4df5b6ee9e193",
            "62fe95a4d46e4013863149eec24c8719",
            "dfb914ae71ad489d92eec4e5dda2a8be",
            "3a8dcd0277ca4ac9a49ade0040f44da5",
            "889ece2ef8344980991e39e79d5cd8f4",
            "3224e57e50b442989900d470ce9b80e4",
            "51278056b58d4d038fd1841218a043be",
            "59da53f2fce54dc791c0e57a2cddd0ac",
            "7e1232fee7af452d8d9397e91ce332a0",
            "8050834a0ca74875b47136b0b9a8ee83",
            "c4985b0b89054d92a7ea52fb4e4f235d",
            "3858027d390148ea9b525fa404a7c253",
            "dd14f28e7d474625ba0f83de3f6bf2cf",
            "ef335c23ce044f43be2851f0a53cce85",
            "da590a9c81d5445d88ddd6eae9f1cd3c",
            "5704c367243d45a8a5a9c791d22c6fa9",
            "9af4d6fc507842198c6b249d54cfa0ed",
            "5492d8f74623492189fcb79ef8fb8334",
            "e72043f27ab8468aa21e42e6024209d3",
            "0c8ce04a809b49d2a00176fa7e6d0240",
            "f5934eb29bff47209324404dfeddd066",
            "b6e2207cc41a49138ced086b3ef17828",
            "13ee65a6897b4480bde589fc6d0c51f0",
            "db6886e55947468cb6058b8caee785f1",
            "f15c74471a99440aa1404d29af51ace6",
            "b580ba9da60440119d67a9e3c36c5268",
            "14c0813f649f484abe44375b30a51d7f",
            "4a4ddda641d34b30a95da6adff72b749",
            "f19db6f9d1204d4b87890d2ff8bc2759",
            "5be1fa68b3794db2b9aa11f0e121632d"
          ]
        },
        "outputId": "ad1cf625-f925-411b-d925-a59a027a2468"
      },
      "execution_count": null,
      "outputs": [
        {
          "output_type": "display_data",
          "data": {
            "application/vnd.jupyter.widget-view+json": {
              "model_id": "f548ca82d0f849ecbf3c8d832ee6ce53",
              "version_minor": 0,
              "version_major": 2
            },
            "text/plain": [
              "Downloading:   0%|          | 0.00/779k [00:00<?, ?B/s]"
            ]
          },
          "metadata": {}
        },
        {
          "output_type": "display_data",
          "data": {
            "application/vnd.jupyter.widget-view+json": {
              "model_id": "7e1232fee7af452d8d9397e91ce332a0",
              "version_minor": 0,
              "version_major": 2
            },
            "text/plain": [
              "Downloading:   0%|          | 0.00/1.32M [00:00<?, ?B/s]"
            ]
          },
          "metadata": {}
        },
        {
          "output_type": "display_data",
          "data": {
            "application/vnd.jupyter.widget-view+json": {
              "model_id": "0c8ce04a809b49d2a00176fa7e6d0240",
              "version_minor": 0,
              "version_major": 2
            },
            "text/plain": [
              "Downloading:   0%|          | 0.00/760 [00:00<?, ?B/s]"
            ]
          },
          "metadata": {}
        }
      ]
    },
    {
      "cell_type": "markdown",
      "source": [
        "To set value for maximum sequence length, we need to know the distribution of token lengths."
      ],
      "metadata": {
        "id": "iy1_nP0PMnV8"
      }
    },
    {
      "cell_type": "code",
      "source": [
        "# Checking the distribution of token lengths\n",
        "token_lengths = []\n",
        "\n",
        "for text in df_train['Review Text']:\n",
        "  tokens = tokenizer.encode(text)\n",
        "  token_lengths.append(len(tokens))\n",
        "\n",
        "for text in df_test['Review Text']:\n",
        "  tokens = tokenizer.encode(text)\n",
        "  token_lengths.append(len(tokens))\n",
        "\n",
        "sns.histplot(token_lengths, kde=True, linewidth=0)\n",
        "plt.xlabel('Number of Tokens per Review')"
      ],
      "metadata": {
        "id": "BvMiVj5m0Zgv",
        "colab": {
          "base_uri": "https://localhost:8080/",
          "height": 296
        },
        "outputId": "8f710b01-a902-4d18-89b1-29353ac2a503"
      },
      "execution_count": null,
      "outputs": [
        {
          "output_type": "execute_result",
          "data": {
            "text/plain": [
              "Text(0.5, 0, 'Number of Tokens per Review')"
            ]
          },
          "metadata": {},
          "execution_count": 21
        },
        {
          "output_type": "display_data",
          "data": {
            "image/png": "[encoded data removed]",
            "text/plain": [
              "<Figure size 432x288 with 1 Axes>"
            ]
          },
          "metadata": {
            "image/png": {
              "width": 388,
              "height": 261
            },
            "needs_background": "light"
          }
        }
      ]
    },
    {
      "cell_type": "markdown",
      "source": [
        "According to above distribution we can set maximum **effective** length value to 200"
      ],
      "metadata": {
        "id": "H3ZLFYj5M-Fm"
      }
    },
    {
      "cell_type": "code",
      "source": [
        "MAX_LEN = 200 # Lets ignore the small percentage that has length more than 200. Those will be truncated."
      ],
      "metadata": {
        "id": "NuDFg9amGdPM"
      },
      "execution_count": null,
      "outputs": []
    },
    {
      "cell_type": "markdown",
      "source": [
        "###Model Training"
      ],
      "metadata": {
        "id": "w5HevO6rZSx_"
      }
    },
    {
      "cell_type": "markdown",
      "source": [
        "Building iterator class from pytorch [Dataset & DataLoader](https://pytorch.org/tutorials/beginner/basics/data_tutorial.html) class is needed to feed data to transformers."
      ],
      "metadata": {
        "id": "DSYw0qa-aHWe"
      }
    },
    {
      "cell_type": "code",
      "source": [
        "# Dataset object class is created as below\n",
        "\n",
        "class Custom_Dataset(Dataset):\n",
        "\n",
        "    def __init__(self, reviews, targets, tokenizer, max_len):\n",
        "        self.reviews = reviews\n",
        "        self.targets = targets\n",
        "        self.tokenizer = tokenizer\n",
        "        self.max_len = max_len\n",
        "    \n",
        "    def __len__(self):\n",
        "        return len(self.reviews)\n",
        "    \n",
        "    def __getitem__(self, item):\n",
        "        review = str(self.reviews[item])\n",
        "        target = self.targets[item]\n",
        "        \n",
        "        # To encode and pad data in tokenized form we can use encode_plus() function from Huggingface transformer’s XLNetTokenizer\n",
        "        encoding = self.tokenizer.encode_plus(review, add_special_tokens=True, max_length=self.max_len, return_token_type_ids=False,\n",
        "                                              pad_to_max_length=False, return_attention_mask=True, return_tensors='pt')\n",
        "        \n",
        "        # encode_plus() function returns input_ids, attention_mask and if required token_type_ids. We can customize them as below\n",
        "        input_ids = pad_sequences(encoding['input_ids'], maxlen=self.max_len, dtype=torch.Tensor ,truncating=\"post\",padding=\"post\")\n",
        "        input_ids = input_ids.astype(dtype = 'int64')\n",
        "        input_ids = torch.tensor(input_ids) \n",
        "\n",
        "        attention_mask = pad_sequences(encoding['attention_mask'], maxlen=self.max_len, dtype=torch.Tensor ,truncating=\"post\",padding=\"post\")\n",
        "        attention_mask = attention_mask.astype(dtype = 'int64')\n",
        "        attention_mask = torch.tensor(attention_mask)       \n",
        "\n",
        "        return {'review_text': review, \n",
        "                'input_ids': input_ids, \n",
        "                'attention_mask': attention_mask.flatten(),\n",
        "                'targets': torch.tensor(target, dtype=torch.long)}\n",
        "\n",
        "# Function to create DataLoader object\n",
        "\n",
        "def create_data_loader(df, tokenizer, max_len, batch_size):\n",
        "  \n",
        "  dataset_object = Custom_Dataset(reviews=df['Review Text'].to_numpy(), targets=df['Rating'].to_numpy(), tokenizer=tokenizer, max_len=max_len)\n",
        "  return DataLoader(dataset_object,batch_size=batch_size,num_workers=2) #Colab support maximum 2 workers."
      ],
      "metadata": {
        "id": "He-eagSpGdSO"
      },
      "execution_count": null,
      "outputs": []
    },
    {
      "cell_type": "markdown",
      "source": [
        "Generating validation data set from test data set is essential to improve model performance"
      ],
      "metadata": {
        "id": "ucPL2L_FlRhW"
      }
    },
    {
      "cell_type": "code",
      "source": [
        "df_train = df_train\n",
        "df_val, df_test = train_test_split(df_test, test_size=0.5, random_state=33)\n",
        "print(f'Train set shape : {df_train.shape}\\nValidation set shape : {df_val.shape}\\nTest set shape : {df_test.shape}')"
      ],
      "metadata": {
        "id": "m-qMOcszGdU2",
        "colab": {
          "base_uri": "https://localhost:8080/"
        },
        "outputId": "f3a6eb7c-116b-4657-8831-f077fab728fc"
      },
      "execution_count": null,
      "outputs": [
        {
          "output_type": "stream",
          "name": "stdout",
          "text": [
            "Train set shape : (4000, 2)\n",
            "Validation set shape : (1000, 2)\n",
            "Test set shape : (1000, 2)\n"
          ]
        }
      ]
    },
    {
      "cell_type": "markdown",
      "source": [
        "* Create Data loaders for Train, Test & Validation datasets.\n",
        "* Create the XLNet Model"
      ],
      "metadata": {
        "id": "yCyrrIjKnJpH"
      }
    },
    {
      "cell_type": "code",
      "source": [
        "BATCH_SIZE = 2 #Since n_workers in dataloader is 2, I have used same batch size\n",
        "\n",
        "# Create data loaders\n",
        "train_data_loader = create_data_loader(df_train, tokenizer, MAX_LEN, BATCH_SIZE)\n",
        "val_data_loader = create_data_loader(df_val, tokenizer, MAX_LEN, BATCH_SIZE)\n",
        "test_data_loader = create_data_loader(df_test, tokenizer, MAX_LEN, BATCH_SIZE)\n",
        "\n",
        "# Create XLNet model\n",
        "model = XLNetForSequenceClassification.from_pretrained('xlnet-base-cased', num_labels = 2)\n",
        "model = model.to(device)"
      ],
      "metadata": {
        "id": "0dWxYFgnGlD1",
        "colab": {
          "base_uri": "https://localhost:8080/",
          "height": 156,
          "referenced_widgets": [
            "b53c40f3e131487d84934ce1fbd48e7c",
            "9c3287a0415b4176993cc4aa3f514d3d",
            "c1a0da432d6044d3aaec64d72aeb5c64",
            "dcc68116010f46a4922a9b94ae8a5e46",
            "c24180ff1f56439d8a3bb7585dd75a36",
            "fa34defaf22249bb940c6bc1b69bdc4c",
            "e2206221f0bb46a0a702eb5824adaaf8",
            "60af4fa634f64cd88299ef9da97edb98",
            "848aa921de024e889cda90c13cf8db10",
            "a60ad1f8df7b48288c777649794607b3",
            "39179976851144bcadcdd7322201736b"
          ]
        },
        "outputId": "2718e8cd-3af2-45af-e117-ab4d23858df1"
      },
      "execution_count": null,
      "outputs": [
        {
          "output_type": "display_data",
          "data": {
            "application/vnd.jupyter.widget-view+json": {
              "model_id": "b53c40f3e131487d84934ce1fbd48e7c",
              "version_minor": 0,
              "version_major": 2
            },
            "text/plain": [
              "Downloading:   0%|          | 0.00/445M [00:00<?, ?B/s]"
            ]
          },
          "metadata": {}
        },
        {
          "output_type": "stream",
          "name": "stderr",
          "text": [
            "Some weights of the model checkpoint at xlnet-base-cased were not used when initializing XLNetForSequenceClassification: ['lm_loss.weight', 'lm_loss.bias']\n",
            "- This IS expected if you are initializing XLNetForSequenceClassification from the checkpoint of a model trained on another task or with another architecture (e.g. initializing a BertForSequenceClassification model from a BertForPreTraining model).\n",
            "- This IS NOT expected if you are initializing XLNetForSequenceClassification from the checkpoint of a model that you expect to be exactly identical (initializing a BertForSequenceClassification model from a BertForSequenceClassification model).\n",
            "Some weights of XLNetForSequenceClassification were not initialized from the model checkpoint at xlnet-base-cased and are newly initialized: ['sequence_summary.summary.bias', 'logits_proj.bias', 'sequence_summary.summary.weight', 'logits_proj.weight']\n",
            "You should probably TRAIN this model on a down-stream task to be able to use it for predictions and inference.\n"
          ]
        }
      ]
    },
    {
      "cell_type": "markdown",
      "source": [
        "\n",
        "\n",
        "> Set Hyperparameters to XLNet Model training process\n",
        "* optimizer\n",
        "* total number of steps\n",
        "* scheduler\n",
        "\n"
      ],
      "metadata": {
        "id": "JOdsCI1tnvAn"
      }
    },
    {
      "cell_type": "code",
      "source": [
        "EPOCHS = 3\n",
        "\n",
        "#define parameters\n",
        "param_optimizer = list(model.named_parameters())\n",
        "no_decay = ['bias', 'LayerNorm.bias', 'LayerNorm.weight']\n",
        "optimizer_grouped_params = [{'params': [p for n, p in param_optimizer if not any(nd in n for nd in no_decay)], 'weight_decay': 0.01},\n",
        "                            {'params': [p for n, p in param_optimizer if any(nd in n for nd in no_decay)], 'weight_decay':0.0}]\n",
        "\n",
        "optimizer = AdamW(optimizer_grouped_params, lr=3e-5)\n",
        "total_steps = len(train_data_loader) * EPOCHS\n",
        "scheduler = get_linear_schedule_with_warmup(optimizer, num_warmup_steps=0, num_training_steps=total_steps)"
      ],
      "metadata": {
        "id": "v6vedIslG_5B"
      },
      "execution_count": null,
      "outputs": []
    },
    {
      "cell_type": "markdown",
      "source": [
        "Define Training Step Function"
      ],
      "metadata": {
        "id": "9lfUzKi4pN-g"
      }
    },
    {
      "cell_type": "code",
      "source": [
        "def train_epoch(model, data_loader, optimizer, device, scheduler, n_examples, batch_size, max_len):\n",
        "    model = model.train()\n",
        "    losses = []\n",
        "    acc = 0\n",
        "    counter = 0\n",
        "\n",
        "    # below loop calculate accuracy and loss for each item in data_loader. Then add them to acc & losses variables defined above\n",
        "    for dtl in data_loader:\n",
        "        input_ids = dtl[\"input_ids\"].reshape(batch_size,max_len).to(device)\n",
        "        attention_mask = dtl[\"attention_mask\"].to(device)\n",
        "        targets = dtl[\"targets\"].to(device)\n",
        "        \n",
        "        # calculate loss\n",
        "        outputs = model(input_ids=input_ids, token_type_ids=None, attention_mask=attention_mask, labels = targets)\n",
        "        loss = outputs[0]\n",
        "        logits = outputs[1]\n",
        "        \n",
        "        # calculate accuracy for individual data item\n",
        "        _, prediction = torch.max(outputs[1], dim=1)\n",
        "        targets = targets.cpu().detach().numpy()\n",
        "        prediction = prediction.cpu().detach().numpy()\n",
        "        accuracy = metrics.accuracy_score(targets, prediction)\n",
        "\n",
        "        # adding individual accuracy and loss values to total values\n",
        "        acc += accuracy\n",
        "        losses.append(loss.item())  \n",
        "        counter = counter + 1 # to know the number of items in data_loader\n",
        "\n",
        "        # model parameters are trained and adjusted according to each data item in data_loader\n",
        "        loss.backward()\n",
        "        nn.utils.clip_grad_norm_(model.parameters(), max_norm=1.0)\n",
        "        optimizer.step()\n",
        "        scheduler.step()\n",
        "        optimizer.zero_grad()       \n",
        "\n",
        "    return acc / counter, np.mean(losses)"
      ],
      "metadata": {
        "id": "5D2XjXgvG_-V"
      },
      "execution_count": null,
      "outputs": []
    },
    {
      "cell_type": "markdown",
      "source": [
        "Define Evaluation Function"
      ],
      "metadata": {
        "id": "RXt0TtMRsVkA"
      }
    },
    {
      "cell_type": "code",
      "source": [
        "# This function is similar to training step function except model parameter tuning section\n",
        "\n",
        "def eval_model(model, data_loader, device, n_examples, batch_size, max_len):\n",
        "    model = model.eval()\n",
        "    losses = []\n",
        "    acc = 0\n",
        "    counter = 0\n",
        "  \n",
        "    with torch.no_grad():\n",
        "        for dtl in data_loader:\n",
        "            input_ids = dtl[\"input_ids\"].reshape(batch_size, max_len).to(device)\n",
        "            attention_mask = dtl[\"attention_mask\"].to(device)\n",
        "            targets = dtl[\"targets\"].to(device)\n",
        "            \n",
        "            # calculate loss\n",
        "            outputs = model(input_ids=input_ids, token_type_ids=None, attention_mask=attention_mask, labels = targets)\n",
        "            loss = outputs[0]\n",
        "            logits = outputs[1]\n",
        "            \n",
        "            # calculate accuracy for individual data item\n",
        "            _, prediction = torch.max(outputs[1], dim=1)\n",
        "            targets = targets.cpu().detach().numpy()\n",
        "            prediction = prediction.cpu().detach().numpy()\n",
        "            accuracy = metrics.accuracy_score(targets, prediction)\n",
        "            \n",
        "            # adding individual accuracy and loss values to total values\n",
        "            acc += accuracy\n",
        "            losses.append(loss.item())\n",
        "            counter += 1  # to know the number of items in data_loader\n",
        "\n",
        "    return acc / counter, np.mean(losses)"
      ],
      "metadata": {
        "id": "9rvCAn5fHACp"
      },
      "execution_count": null,
      "outputs": []
    },
    {
      "cell_type": "markdown",
      "source": [
        "Fine Tuning the pre-trained model"
      ],
      "metadata": {
        "id": "FzazkPHcuSuk"
      }
    },
    {
      "cell_type": "code",
      "source": [
        "# Define variables to save model performances\n",
        "history = defaultdict(list)\n",
        "best_accuracy = 0\n",
        "MODEL_SAVED_PATH = f'/content/drive/Fellowship/Model/xlnet_model_{MAX_LEN}.bin'\n",
        "\n",
        "for epoch in range(EPOCHS):\n",
        "    print(f'Epoch {epoch + 1}/{EPOCHS}')\n",
        "    print('-' * 20)\n",
        "\n",
        "    # Train model on train data set for given number of epoches\n",
        "    train_acc, train_loss = train_epoch(model, train_data_loader, optimizer, device, scheduler, len(df_train), BATCH_SIZE, MAX_LEN)\n",
        "    # Evaluate model on validation data set for given number of epoches\n",
        "    val_acc, val_loss = eval_model(model, val_data_loader, device, len(df_val), BATCH_SIZE, MAX_LEN)\n",
        "\n",
        "    print(f'\\nTrain loss {train_loss} Train accuracy {train_acc}\\n')   \n",
        "    print(f'\\nVal loss {val_loss} Val accuracy {val_acc}\\n')\n",
        "\n",
        "    history['train_acc'].append(train_acc)\n",
        "    history['train_loss'].append(train_loss)\n",
        "    history['val_acc'].append(val_acc)\n",
        "    history['val_loss'].append(val_loss)\n",
        "\n",
        "    # Save validation accuracy only if it is higher than best accuracy so far\n",
        "    if val_acc > best_accuracy:\n",
        "        torch.save(model.state_dict(), MODEL_SAVED_PATH) \n",
        "        best_accuracy = val_acc"
      ],
      "metadata": {
        "id": "kUaHWoaPHAGH",
        "colab": {
          "base_uri": "https://localhost:8080/"
        },
        "outputId": "26cc4be1-cc48-4e0f-bd54-8826dc4fd7b0"
      },
      "execution_count": null,
      "outputs": [
        {
          "output_type": "stream",
          "name": "stdout",
          "text": [
            "Epoch 1/3\n",
            "--------------------\n",
            "\n",
            "Train loss 0.4636683730442019 Train accuracy 0.90525\n",
            "\n",
            "\n",
            "Val loss 0.3293987659356208 Val accuracy 0.942\n",
            "\n",
            "Epoch 2/3\n",
            "--------------------\n",
            "\n",
            "Train loss 0.17768379596312114 Train accuracy 0.971\n",
            "\n",
            "\n",
            "Val loss 0.3415179365466029 Val accuracy 0.949\n",
            "\n",
            "Epoch 3/3\n",
            "--------------------\n",
            "\n",
            "Train loss 0.08222632281164442 Train accuracy 0.98775\n",
            "\n",
            "\n",
            "Val loss 0.29740461907849386 Val accuracy 0.957\n",
            "\n"
          ]
        }
      ]
    },
    {
      "cell_type": "markdown",
      "source": [
        "Evaluate Final Model"
      ],
      "metadata": {
        "id": "vUbD5sIKyuZN"
      }
    },
    {
      "cell_type": "code",
      "source": [
        "# Load best model\n",
        "model.load_state_dict(torch.load(MODEL_SAVED_PATH)) \n",
        "model = model.to(device)\n",
        "\n",
        "# Test model on test data set\n",
        "test_acc, test_loss = eval_model(model, test_data_loader, device, len(df_test), BATCH_SIZE, MAX_LEN)\n",
        "\n",
        "print('Test Accuracy :', test_acc)\n",
        "print('Test Loss :', test_loss)"
      ],
      "metadata": {
        "id": "XQSkxck0JUAM",
        "colab": {
          "base_uri": "https://localhost:8080/"
        },
        "outputId": "dfa1bf33-bf89-4b04-fbbd-5b23aaf5e54d"
      },
      "execution_count": null,
      "outputs": [
        {
          "output_type": "stream",
          "name": "stdout",
          "text": [
            "Test Accuracy : 0.948\n",
            "Test Loss : 0.4077145253716517\n"
          ]
        }
      ]
    },
    {
      "cell_type": "markdown",
      "source": [
        "###Model Testing"
      ],
      "metadata": {
        "id": "FDts5Bvm1fzS"
      }
    },
    {
      "cell_type": "code",
      "source": [
        "def get_predictions(model, data_loader, batch_size, max_len):\n",
        "    model = model.eval()\n",
        "    review_texts = []\n",
        "    predictions = []\n",
        "    prediction_probs = []\n",
        "    real_values = []\n",
        "\n",
        "    with torch.no_grad():\n",
        "        for dtl in data_loader:\n",
        "            texts = dtl[\"review_text\"]\n",
        "            input_ids = dtl[\"input_ids\"].reshape(batch_size, max_len).to(device)\n",
        "            attention_mask = dtl[\"attention_mask\"].to(device)\n",
        "            targets = dtl[\"targets\"].to(device)\n",
        "            \n",
        "            # Calculate loss for each data point in data_loader\n",
        "            outputs = model(input_ids=input_ids, token_type_ids=None, attention_mask=attention_mask, labels = targets)\n",
        "            loss = outputs[0]\n",
        "            logits = outputs[1]\n",
        "\n",
        "            # Geting probability of each class using softmax function\n",
        "            _, preds = torch.max(outputs[1], dim=1)\n",
        "            probs = F.softmax(outputs[1], dim=1)\n",
        "            review_texts.extend(texts)\n",
        "            predictions.extend(preds)\n",
        "            prediction_probs.extend(probs)\n",
        "            real_values.extend(targets)\n",
        "\n",
        "    predictions = torch.stack(predictions).cpu()\n",
        "    prediction_probs = torch.stack(prediction_probs).cpu()\n",
        "    real_values = torch.stack(real_values).cpu()\n",
        "    return review_texts, predictions, prediction_probs, real_values"
      ],
      "metadata": {
        "id": "u2y09MhFJVTe"
      },
      "execution_count": null,
      "outputs": []
    },
    {
      "cell_type": "markdown",
      "source": [
        "Model performance on Test set"
      ],
      "metadata": {
        "id": "2mwWMZkA1o60"
      }
    },
    {
      "cell_type": "code",
      "source": [
        "y_review_texts, y_pred, y_pred_probs, y_test = get_predictions( model, test_data_loader, BATCH_SIZE, MAX_LEN)\n",
        "\n",
        "print(classification_report(y_test, y_pred, target_names=class_names))"
      ],
      "metadata": {
        "id": "9b2dG5xbJUDI",
        "colab": {
          "base_uri": "https://localhost:8080/"
        },
        "outputId": "1ddf02b9-bbeb-4533-e191-d2548e952cd1"
      },
      "execution_count": null,
      "outputs": [
        {
          "output_type": "stream",
          "name": "stdout",
          "text": [
            "              precision    recall  f1-score   support\n",
            "\n",
            "    Negative       0.93      0.96      0.95       470\n",
            "    Positive       0.96      0.94      0.95       530\n",
            "\n",
            "    accuracy                           0.95      1000\n",
            "   macro avg       0.95      0.95      0.95      1000\n",
            "weighted avg       0.95      0.95      0.95      1000\n",
            "\n"
          ]
        }
      ]
    },
    {
      "cell_type": "markdown",
      "source": [
        "Model prediction on raw text"
      ],
      "metadata": {
        "id": "Q1Acky-d1uwR"
      }
    },
    {
      "cell_type": "code",
      "source": [
        "# Below function gives the model prediction on raw text\n",
        "\n",
        "def predict_sentiment(text):\n",
        "    review_text = text\n",
        "\n",
        "    # To encode and pad data in tokenized form we can use encode_plus() function from Huggingface transformer’s XLNetTokenizer\n",
        "    encoded_review = tokenizer.encode_plus(review_text, max_length=MAX_LEN, add_special_tokens=True, return_token_type_ids=False,\n",
        "                                           pad_to_max_length=False, return_attention_mask=True, return_tensors='pt')\n",
        "\n",
        "    # encode_plus() function returns input_ids, attention_mask and if required token_type_ids. We can customize them as below\n",
        "    input_ids = pad_sequences(encoded_review['input_ids'], maxlen=MAX_LEN, dtype=torch.Tensor ,truncating=\"post\",padding=\"post\")\n",
        "    input_ids = input_ids.astype(dtype = 'int64')\n",
        "    input_ids = torch.tensor(input_ids) \n",
        "\n",
        "    attention_mask = pad_sequences(encoded_review['attention_mask'], maxlen=MAX_LEN, dtype=torch.Tensor ,truncating=\"post\",padding=\"post\")\n",
        "    attention_mask = attention_mask.astype(dtype = 'int64')\n",
        "    attention_mask = torch.tensor(attention_mask) \n",
        "\n",
        "    input_ids = input_ids.reshape(1,MAX_LEN).to(device)\n",
        "    attention_mask = attention_mask.to(device)\n",
        "\n",
        "    outputs = model(input_ids=input_ids, attention_mask=attention_mask)\n",
        "    outputs = outputs[0][0].cpu().detach()\n",
        "\n",
        "    probs = F.softmax(outputs, dim=-1).cpu().detach().numpy().tolist()\n",
        "    _, prediction = torch.max(outputs, dim =-1)\n",
        "\n",
        "    print(f\"Positive score: {round(probs[1],6)*100} %\")\n",
        "    print(f\"Negative score: {round(probs[0],6)*100} %\")\n",
        "    print(f'Review text: {review_text}')\n",
        "    print(f'Sentiment  : {class_names[prediction]}')"
      ],
      "metadata": {
        "id": "s2OleOmaJUGb"
      },
      "execution_count": null,
      "outputs": []
    },
    {
      "cell_type": "code",
      "source": [
        "sample_text = \"These items should be banned from earth. Product quality gives us headaches\"\n",
        "predict_sentiment(sample_text)"
      ],
      "metadata": {
        "colab": {
          "base_uri": "https://localhost:8080/"
        },
        "id": "1InfcnkfMoun",
        "outputId": "99aec1f5-5b57-45d6-ce7a-d4339a400457"
      },
      "execution_count": null,
      "outputs": [
        {
          "output_type": "stream",
          "name": "stdout",
          "text": [
            "Positive score: 0.0043 %\n",
            "Negative score: 99.9957 %\n",
            "Review text: These items should be banned from earth. Product quality gives us headaches\n",
            "Sentiment  : Negative\n"
          ]
        }
      ]
    },
    {
      "cell_type": "code",
      "source": [
        "sample_text = \"I have second thoughts.\"\n",
        "predict_sentiment(sample_text)"
      ],
      "metadata": {
        "id": "TzCP88s-Jqrd",
        "colab": {
          "base_uri": "https://localhost:8080/"
        },
        "outputId": "a7dafea0-783c-4dcf-c158-9041f355c410"
      },
      "execution_count": null,
      "outputs": [
        {
          "output_type": "stream",
          "name": "stdout",
          "text": [
            "Positive score: 0.0955 %\n",
            "Negative score: 99.9045 %\n",
            "Review text: I have second thoughts.\n",
            "Sentiment  : Negative\n"
          ]
        }
      ]
    },
    {
      "cell_type": "markdown",
      "source": [
        "#Reference"
      ],
      "metadata": {
        "id": "q4p0KFVQ5-BB"
      }
    },
    {
      "cell_type": "markdown",
      "source": [
        "\n",
        "\n",
        "> These are the references that I used to build this notebook. 🤗\n",
        "\n",
        "\n",
        "> I take this as an opportunity to thank them all for sharing their knowledge throughout the world. 🙏\n",
        "\n",
        "*   [David Mertz's Work](https://developer.ibm.com/articles/l-pycon/)\n",
        "*   [Suleiman Khan's Work](https://towardsdatascience.com/bert-roberta-distilbert-xlnet-which-one-to-use-3d5ab82ba5f8)\n",
        "*   [Jay Alammar's Work](http://jalammar.github.io/illustrated-transformer/)\n",
        "*   [Jason Wei's Work](https://github.com/jasonwei20/eda_nlp)\n",
        "*   [Josh Xin Jie Lee's Work](https://towardsdatascience.com/multi-label-text-classification-with-xlnet-b5f5755302df)\n",
        "*   [Shanay Ghag's Work](https://medium.com/swlh/using-xlnet-for-sentiment-classification-cfa948e65e85)\n",
        "*   [Zihang Dai's Work](https://github.com/zihangdai/xlnet)\n",
        "*   [Huggingface XLNet Transformer](https://huggingface.co/transformers/v2.11.0/model_doc/xlnet.html)"
      ],
      "metadata": {
        "id": "pQwFnV6f0IXF"
      }
    }
  ]
}